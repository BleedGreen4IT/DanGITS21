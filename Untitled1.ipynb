{
 "cells": [
  {
   "cell_type": "code",
   "execution_count": null,
   "id": "prescription-offer",
   "metadata": {},
   "outputs": [],
   "source": [
    "city2020 = ['Seattle','San Francisco','Los Angeles','Honolulu','Anchorage','Denver','Salt Lake City','Phoenix','Twin Falls','Dona Ann County','Chicago','St. Louis','Dalas','Lake County','Orleans Parish','Boston','Washington D.C.','Miami','Mercer County','Aroostook County']\n",
    "totaldays2020 = [306,314,275,366,366,366,366,366,272,366,366,366,306,366,366,306,366,275,366,366]\n",
    "poordays2020 = [14,22,119,0,0,34,21,70,7,21,28,10,24,10,0,0,3,2,3,1]\n",
    "aqimed2020 = [42,45,81,26,22,58,50,75,18,53,56,52,49,36.5,27,42,42,44,38,33]\n",
    "zone2020 = ['west','west','west','west','west','mountain','mountain','mountain','mountain','mountain','central','central','central','central','central','east','east','east','east','east']"
   ]
  },
  {
   "cell_type": "code",
   "execution_count": null,
   "id": "generic-recruitment",
   "metadata": {},
   "outputs": [],
   "source": []
  }
 ],
 "metadata": {
  "kernelspec": {
   "display_name": "Python 3",
   "language": "python",
   "name": "python3"
  }
 },
 "nbformat": 4,
 "nbformat_minor": 5
}
