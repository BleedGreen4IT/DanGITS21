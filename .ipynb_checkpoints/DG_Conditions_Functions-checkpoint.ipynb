{
 "cells": [
  {
   "cell_type": "markdown",
   "metadata": {},
   "source": [
    "# If Statements / While Statements"
   ]
  },
  {
   "cell_type": "code",
   "execution_count": 2,
   "metadata": {},
   "outputs": [],
   "source": [
    "snowfall = [81.2,61.9,61.4,43.8,64.1,40.5,33.8]"
   ]
  },
  {
   "cell_type": "code",
   "execution_count": 44,
   "metadata": {},
   "outputs": [
    {
     "name": "stdout",
     "output_type": "stream",
     "text": [
      "81.2\n",
      "143.1\n",
      "204.5\n",
      "248.3\n",
      "312.4\n",
      "352.9\n",
      "386.7\n",
      "386.7\n",
      "55.24285714285714\n"
     ]
    }
   ],
   "source": [
    "x = 0\n",
    "for i in snowfall: \n",
    "    x = x+i\n",
    "    print(x)\n",
    "print(x)\n",
    "len(snowfall)\n",
    "avg = x/len(snowfall)\n",
    "print(avg)\n",
    "    "
   ]
  },
  {
   "cell_type": "code",
   "execution_count": 65,
   "metadata": {},
   "outputs": [],
   "source": [
    "lowsnow = []\n",
    "condition = True \n",
    "snowfall = [81.2,61.9,61.4,43.8,64.1,40.5,33.8]\n",
    "while condition: \n",
    "    for i in snowfall:\n",
    "        if i <= 45:\n",
    "            lowsnow.append(i)\n",
    "        else: \n",
    "            condition = False\n",
    "    break"
   ]
  },
  {
   "cell_type": "code",
   "execution_count": 35,
   "metadata": {},
   "outputs": [
    {
     "name": "stdout",
     "output_type": "stream",
     "text": [
      "Enter the snowfall amount for your city: 40.5\n",
      "Your city receives moderate snowfall\n"
     ]
    }
   ],
   "source": [
    "citysnow = float(input('Enter the snowfall amount for your city: '))\n",
    "if citysnow > 65: \n",
    "    print('Your city is excessive for snowfall.')\n",
    "elif citysnow <=65 and citysnow > 40:\n",
    "        print('Your city receives moderate snowfall')\n",
    "else:\n",
    "    print('Your city does not receive much snowfall')"
   ]
  },
  {
   "cell_type": "code",
   "execution_count": 36,
   "metadata": {},
   "outputs": [
    {
     "data": {
      "text/plain": [
       "40.5"
      ]
     },
     "execution_count": 36,
     "metadata": {},
     "output_type": "execute_result"
    }
   ],
   "source": [
    "citysnow"
   ]
  },
  {
   "cell_type": "code",
   "execution_count": 37,
   "metadata": {},
   "outputs": [
    {
     "data": {
      "text/plain": [
       "float"
      ]
     },
     "execution_count": 37,
     "metadata": {},
     "output_type": "execute_result"
    }
   ],
   "source": [
    "type(citysnow)"
   ]
  },
  {
   "cell_type": "code",
   "execution_count": 68,
   "metadata": {},
   "outputs": [
    {
     "name": "stdout",
     "output_type": "stream",
     "text": [
      "43.8\n",
      "84.3\n",
      "118.1\n",
      "118.1\n",
      "39.36666666666667\n",
      "[43.8, 40.5, 33.8]\n"
     ]
    }
   ],
   "source": [
    "lowsnow\n",
    "x = 0\n",
    "for i in lowsnow: \n",
    "    x = x+i\n",
    "    print(x)\n",
    "print(x)\n",
    "len(lowsnow)\n",
    "avg = x/len(lowsnow)\n",
    "print(avg)\n",
    "print(lowsnow)"
   ]
  },
  {
   "cell_type": "markdown",
   "metadata": {},
   "source": [
    "# Functions "
   ]
  },
  {
   "cell_type": "code",
   "execution_count": 4,
   "metadata": {},
   "outputs": [],
   "source": [
    "def greeting(firstname):\n",
    "    print(f'Hi {firstname}! It is nice to meet you.')"
   ]
  },
  {
   "cell_type": "code",
   "execution_count": 5,
   "metadata": {},
   "outputs": [
    {
     "name": "stdout",
     "output_type": "stream",
     "text": [
      "Hi Dan! It is nice to meet you.\n"
     ]
    }
   ],
   "source": [
    "greeting('Dan')"
   ]
  },
  {
   "cell_type": "code",
   "execution_count": 11,
   "metadata": {},
   "outputs": [],
   "source": [
    "def greeting():\n",
    "    firstname=input('Enter your firstname: ')\n",
    "    print(f'Hi {firstname}! It is nice to meet you.')"
   ]
  },
  {
   "cell_type": "code",
   "execution_count": 12,
   "metadata": {},
   "outputs": [
    {
     "name": "stdout",
     "output_type": "stream",
     "text": [
      "Enter your firstname: Joey\n",
      "Hi Joey! It is nice to meet you.\n"
     ]
    }
   ],
   "source": [
    "greeting()"
   ]
  },
  {
   "cell_type": "code",
   "execution_count": 15,
   "metadata": {},
   "outputs": [],
   "source": [
    "def dd(direction,degrees,minutes,seconds):\n",
    "    return direction * (degrees + (minutes + seconds/60)/60)"
   ]
  },
  {
   "cell_type": "code",
   "execution_count": 16,
   "metadata": {},
   "outputs": [
    {
     "data": {
      "text/plain": [
       "42.29785833333333"
      ]
     },
     "execution_count": 16,
     "metadata": {},
     "output_type": "execute_result"
    }
   ],
   "source": [
    "dd(1,42,17,52.29)"
   ]
  },
  {
   "cell_type": "code",
   "execution_count": 17,
   "metadata": {},
   "outputs": [
    {
     "data": {
      "text/plain": [
       "-71.43626111111111"
      ]
     },
     "execution_count": 17,
     "metadata": {},
     "output_type": "execute_result"
    }
   ],
   "source": [
    "dd(-1,71,26,10.54)"
   ]
  },
  {
   "cell_type": "code",
   "execution_count": 18,
   "metadata": {},
   "outputs": [
    {
     "data": {
      "text/plain": [
       "48.810291666666664"
      ]
     },
     "execution_count": 18,
     "metadata": {},
     "output_type": "execute_result"
    }
   ],
   "source": [
    "dd(1,48,48,37.05)"
   ]
  },
  {
   "cell_type": "code",
   "execution_count": 19,
   "metadata": {},
   "outputs": [
    {
     "data": {
      "text/plain": [
       "2.0999944444444445"
      ]
     },
     "execution_count": 19,
     "metadata": {},
     "output_type": "execute_result"
    }
   ],
   "source": [
    "dd(1,2,5,59.98)"
   ]
  },
  {
   "cell_type": "code",
   "execution_count": 29,
   "metadata": {},
   "outputs": [
    {
     "name": "stdout",
     "output_type": "stream",
     "text": [
      "The distance between Framingham and Versailles is 3446 miles.\n"
     ]
    }
   ],
   "source": [
    "import math\n",
    "radius = 6371\n",
    "lat1 = 42.29785833333333 * (math.pi/180)\n",
    "lon1 = -71.43626111111111 * (math.pi/180)\n",
    "lat2 = 48.810291666666664 * (math.pi/180)\n",
    "lon2 = 2.0999944444444445 * (math.pi/180)\n",
    "\n",
    "latd = lat1-lat2\n",
    "lond = lon1-lon2\n",
    "\n",
    "a = math.sin(latd/2)**2 + math.cos(lat1) * math.cos(lat2) * math.sin(lond/2)**2\n",
    "\n",
    "c = 2 * math.atan2(math.sqrt(a), math.sqrt(1-a))\n",
    "\n",
    "d = round(radius * c * 0.621371)\n",
    "\n",
    "print(f'The distance between Framingham and Versailles is {d} miles.')"
   ]
  },
  {
   "cell_type": "code",
   "execution_count": null,
   "metadata": {},
   "outputs": [],
   "source": [
    "location1: \n",
    "location2:\n",
    "location3:\n",
    "\n",
    "def distance():\n",
    "    input statement (lat1)\n",
    "    input statement (lon1)\n",
    "    input statement (lat2)\n",
    "    input statement (lon2)\n",
    "    input statemrnt (lat3)\n",
    "    input statement (lon3)"
   ]
  }
 ],
 "metadata": {
  "kernelspec": {
   "display_name": "Python 3",
   "language": "python",
   "name": "python3"
  },
  "language_info": {
   "codemirror_mode": {
    "name": "ipython",
    "version": 3
   },
   "file_extension": ".py",
   "mimetype": "text/x-python",
   "name": "python",
   "nbconvert_exporter": "python",
   "pygments_lexer": "ipython3",
   "version": "3.8.5"
  }
 },
 "nbformat": 4,
 "nbformat_minor": 4
}
