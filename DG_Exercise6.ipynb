{
 "cells": [
  {
   "cell_type": "code",
   "execution_count": 31,
   "id": "temporal-melissa",
   "metadata": {},
   "outputs": [],
   "source": [
    "city = ['Seattle','San Francisco','Los Angeles','Denver','Salt Lake City','Phoenix','Chicago','St. Louis','Dalas','Boston','Washington D.C.','Miami']\n",
    "totaldays = [306,314,275,366,366,366,366,366,306,306,366,275]\n",
    "poordays = [14,22,119,34,21,70,28,10,24,0,3,2]\n",
    "aqimed = [42,45,81,58,50,75,56,52,49,42,42,44]\n",
    "zone = ['west','west','west','mountain','mountain','mountain','central','central','central','east','east','east']"
   ]
  },
  {
   "cell_type": "code",
   "execution_count": 32,
   "id": "devoted-playing",
   "metadata": {},
   "outputs": [],
   "source": [
    "aqimedavg = sum(aqimed)/len(aqimed)\n",
    "tdaysavg = sum(totaldays)/len(totaldays)\n",
    "pdaysavg = sum(poordays)/len(poordays)"
   ]
  },
  {
   "cell_type": "code",
   "execution_count": 33,
   "id": "included-intake",
   "metadata": {},
   "outputs": [],
   "source": [
    "import pandas as pd\n",
    "\n",
    "aqicities = pd.DataFrame({'City':city,'Total_Days':totaldays,'Poor_Days':poordays,'AQI_Median':aqimed,'Zone':zone})"
   ]
  },
  {
   "cell_type": "code",
   "execution_count": 55,
   "id": "satisfied-transcript",
   "metadata": {},
   "outputs": [
    {
     "data": {
      "text/html": [
       "<div>\n",
       "<style scoped>\n",
       "    .dataframe tbody tr th:only-of-type {\n",
       "        vertical-align: middle;\n",
       "    }\n",
       "\n",
       "    .dataframe tbody tr th {\n",
       "        vertical-align: top;\n",
       "    }\n",
       "\n",
       "    .dataframe thead th {\n",
       "        text-align: right;\n",
       "    }\n",
       "</style>\n",
       "<table border=\"1\" class=\"dataframe\">\n",
       "  <thead>\n",
       "    <tr style=\"text-align: right;\">\n",
       "      <th></th>\n",
       "      <th>City</th>\n",
       "      <th>Total_Days</th>\n",
       "      <th>Poor_Days</th>\n",
       "      <th>AQI_Median</th>\n",
       "      <th>Zone</th>\n",
       "    </tr>\n",
       "  </thead>\n",
       "  <tbody>\n",
       "    <tr>\n",
       "      <th>0</th>\n",
       "      <td>Seattle</td>\n",
       "      <td>306</td>\n",
       "      <td>14</td>\n",
       "      <td>42</td>\n",
       "      <td>west</td>\n",
       "    </tr>\n",
       "    <tr>\n",
       "      <th>1</th>\n",
       "      <td>San Francisco</td>\n",
       "      <td>314</td>\n",
       "      <td>22</td>\n",
       "      <td>45</td>\n",
       "      <td>west</td>\n",
       "    </tr>\n",
       "    <tr>\n",
       "      <th>2</th>\n",
       "      <td>Los Angeles</td>\n",
       "      <td>275</td>\n",
       "      <td>119</td>\n",
       "      <td>81</td>\n",
       "      <td>west</td>\n",
       "    </tr>\n",
       "    <tr>\n",
       "      <th>3</th>\n",
       "      <td>Denver</td>\n",
       "      <td>366</td>\n",
       "      <td>34</td>\n",
       "      <td>58</td>\n",
       "      <td>mountain</td>\n",
       "    </tr>\n",
       "    <tr>\n",
       "      <th>4</th>\n",
       "      <td>Salt Lake City</td>\n",
       "      <td>366</td>\n",
       "      <td>21</td>\n",
       "      <td>50</td>\n",
       "      <td>mountain</td>\n",
       "    </tr>\n",
       "    <tr>\n",
       "      <th>5</th>\n",
       "      <td>Phoenix</td>\n",
       "      <td>366</td>\n",
       "      <td>70</td>\n",
       "      <td>75</td>\n",
       "      <td>mountain</td>\n",
       "    </tr>\n",
       "    <tr>\n",
       "      <th>6</th>\n",
       "      <td>Chicago</td>\n",
       "      <td>366</td>\n",
       "      <td>28</td>\n",
       "      <td>56</td>\n",
       "      <td>central</td>\n",
       "    </tr>\n",
       "    <tr>\n",
       "      <th>7</th>\n",
       "      <td>St. Louis</td>\n",
       "      <td>366</td>\n",
       "      <td>10</td>\n",
       "      <td>52</td>\n",
       "      <td>central</td>\n",
       "    </tr>\n",
       "    <tr>\n",
       "      <th>8</th>\n",
       "      <td>Dalas</td>\n",
       "      <td>306</td>\n",
       "      <td>24</td>\n",
       "      <td>49</td>\n",
       "      <td>central</td>\n",
       "    </tr>\n",
       "    <tr>\n",
       "      <th>9</th>\n",
       "      <td>Boston</td>\n",
       "      <td>306</td>\n",
       "      <td>0</td>\n",
       "      <td>42</td>\n",
       "      <td>east</td>\n",
       "    </tr>\n",
       "    <tr>\n",
       "      <th>10</th>\n",
       "      <td>Washington D.C.</td>\n",
       "      <td>366</td>\n",
       "      <td>3</td>\n",
       "      <td>42</td>\n",
       "      <td>east</td>\n",
       "    </tr>\n",
       "    <tr>\n",
       "      <th>11</th>\n",
       "      <td>Miami</td>\n",
       "      <td>275</td>\n",
       "      <td>2</td>\n",
       "      <td>44</td>\n",
       "      <td>east</td>\n",
       "    </tr>\n",
       "  </tbody>\n",
       "</table>\n",
       "</div>"
      ],
      "text/plain": [
       "               City  Total_Days  Poor_Days  AQI_Median      Zone\n",
       "0           Seattle         306         14          42      west\n",
       "1     San Francisco         314         22          45      west\n",
       "2       Los Angeles         275        119          81      west\n",
       "3            Denver         366         34          58  mountain\n",
       "4    Salt Lake City         366         21          50  mountain\n",
       "5           Phoenix         366         70          75  mountain\n",
       "6           Chicago         366         28          56   central\n",
       "7         St. Louis         366         10          52   central\n",
       "8             Dalas         306         24          49   central\n",
       "9            Boston         306          0          42      east\n",
       "10  Washington D.C.         366          3          42      east\n",
       "11            Miami         275          2          44      east"
      ]
     },
     "execution_count": 55,
     "metadata": {},
     "output_type": "execute_result"
    }
   ],
   "source": [
    "aqicities"
   ]
  },
  {
   "cell_type": "code",
   "execution_count": 56,
   "id": "indirect-belief",
   "metadata": {},
   "outputs": [],
   "source": [
    "aqicities2 = pd.read_csv('aqicities2.csv')"
   ]
  },
  {
   "cell_type": "code",
   "execution_count": 57,
   "id": "statutory-stock",
   "metadata": {},
   "outputs": [
    {
     "data": {
      "text/html": [
       "<div>\n",
       "<style scoped>\n",
       "    .dataframe tbody tr th:only-of-type {\n",
       "        vertical-align: middle;\n",
       "    }\n",
       "\n",
       "    .dataframe tbody tr th {\n",
       "        vertical-align: top;\n",
       "    }\n",
       "\n",
       "    .dataframe thead th {\n",
       "        text-align: right;\n",
       "    }\n",
       "</style>\n",
       "<table border=\"1\" class=\"dataframe\">\n",
       "  <thead>\n",
       "    <tr style=\"text-align: right;\">\n",
       "      <th></th>\n",
       "      <th>City</th>\n",
       "      <th>Total_Days</th>\n",
       "      <th>Poor_Days</th>\n",
       "      <th>AQI_Median</th>\n",
       "      <th>Zone</th>\n",
       "    </tr>\n",
       "  </thead>\n",
       "  <tbody>\n",
       "    <tr>\n",
       "      <th>0</th>\n",
       "      <td>Honolulu</td>\n",
       "      <td>366</td>\n",
       "      <td>0</td>\n",
       "      <td>26.0</td>\n",
       "      <td>west</td>\n",
       "    </tr>\n",
       "    <tr>\n",
       "      <th>1</th>\n",
       "      <td>Anchorage</td>\n",
       "      <td>366</td>\n",
       "      <td>0</td>\n",
       "      <td>22.0</td>\n",
       "      <td>west</td>\n",
       "    </tr>\n",
       "    <tr>\n",
       "      <th>2</th>\n",
       "      <td>Twin Falls</td>\n",
       "      <td>272</td>\n",
       "      <td>7</td>\n",
       "      <td>18.0</td>\n",
       "      <td>mountain</td>\n",
       "    </tr>\n",
       "    <tr>\n",
       "      <th>3</th>\n",
       "      <td>Dona Ann County</td>\n",
       "      <td>366</td>\n",
       "      <td>21</td>\n",
       "      <td>53.0</td>\n",
       "      <td>mountain</td>\n",
       "    </tr>\n",
       "    <tr>\n",
       "      <th>4</th>\n",
       "      <td>Lake County</td>\n",
       "      <td>366</td>\n",
       "      <td>10</td>\n",
       "      <td>36.5</td>\n",
       "      <td>central</td>\n",
       "    </tr>\n",
       "    <tr>\n",
       "      <th>5</th>\n",
       "      <td>Orleans Parish</td>\n",
       "      <td>366</td>\n",
       "      <td>0</td>\n",
       "      <td>27.0</td>\n",
       "      <td>central</td>\n",
       "    </tr>\n",
       "    <tr>\n",
       "      <th>6</th>\n",
       "      <td>Mercer County</td>\n",
       "      <td>366</td>\n",
       "      <td>3</td>\n",
       "      <td>38.0</td>\n",
       "      <td>east</td>\n",
       "    </tr>\n",
       "    <tr>\n",
       "      <th>7</th>\n",
       "      <td>Aroostook County</td>\n",
       "      <td>366</td>\n",
       "      <td>1</td>\n",
       "      <td>33.0</td>\n",
       "      <td>east</td>\n",
       "    </tr>\n",
       "  </tbody>\n",
       "</table>\n",
       "</div>"
      ],
      "text/plain": [
       "               City  Total_Days  Poor_Days  AQI_Median      Zone\n",
       "0          Honolulu         366          0        26.0      west\n",
       "1         Anchorage         366          0        22.0      west\n",
       "2        Twin Falls         272          7        18.0  mountain\n",
       "3   Dona Ann County         366         21        53.0  mountain\n",
       "4       Lake County         366         10        36.5   central\n",
       "5    Orleans Parish         366          0        27.0   central\n",
       "6     Mercer County         366          3        38.0      east\n",
       "7  Aroostook County         366          1        33.0      east"
      ]
     },
     "execution_count": 57,
     "metadata": {},
     "output_type": "execute_result"
    }
   ],
   "source": [
    "aqicities2"
   ]
  },
  {
   "cell_type": "code",
   "execution_count": 58,
   "id": "distributed-armstrong",
   "metadata": {},
   "outputs": [
    {
     "data": {
      "text/plain": [
       "pandas.core.frame.DataFrame"
      ]
     },
     "execution_count": 58,
     "metadata": {},
     "output_type": "execute_result"
    }
   ],
   "source": [
    "type(aqicities2)"
   ]
  },
  {
   "cell_type": "code",
   "execution_count": 59,
   "id": "pending-rolling",
   "metadata": {},
   "outputs": [],
   "source": [
    "alldata = pd.concat([aqicities,aqicities2],join = 'inner')"
   ]
  },
  {
   "cell_type": "code",
   "execution_count": 60,
   "id": "convinced-helen",
   "metadata": {},
   "outputs": [
    {
     "data": {
      "text/html": [
       "<div>\n",
       "<style scoped>\n",
       "    .dataframe tbody tr th:only-of-type {\n",
       "        vertical-align: middle;\n",
       "    }\n",
       "\n",
       "    .dataframe tbody tr th {\n",
       "        vertical-align: top;\n",
       "    }\n",
       "\n",
       "    .dataframe thead th {\n",
       "        text-align: right;\n",
       "    }\n",
       "</style>\n",
       "<table border=\"1\" class=\"dataframe\">\n",
       "  <thead>\n",
       "    <tr style=\"text-align: right;\">\n",
       "      <th></th>\n",
       "      <th>City</th>\n",
       "      <th>Total_Days</th>\n",
       "      <th>Poor_Days</th>\n",
       "      <th>AQI_Median</th>\n",
       "      <th>Zone</th>\n",
       "    </tr>\n",
       "  </thead>\n",
       "  <tbody>\n",
       "    <tr>\n",
       "      <th>0</th>\n",
       "      <td>Seattle</td>\n",
       "      <td>306</td>\n",
       "      <td>14</td>\n",
       "      <td>42.0</td>\n",
       "      <td>west</td>\n",
       "    </tr>\n",
       "    <tr>\n",
       "      <th>1</th>\n",
       "      <td>San Francisco</td>\n",
       "      <td>314</td>\n",
       "      <td>22</td>\n",
       "      <td>45.0</td>\n",
       "      <td>west</td>\n",
       "    </tr>\n",
       "    <tr>\n",
       "      <th>2</th>\n",
       "      <td>Los Angeles</td>\n",
       "      <td>275</td>\n",
       "      <td>119</td>\n",
       "      <td>81.0</td>\n",
       "      <td>west</td>\n",
       "    </tr>\n",
       "    <tr>\n",
       "      <th>3</th>\n",
       "      <td>Denver</td>\n",
       "      <td>366</td>\n",
       "      <td>34</td>\n",
       "      <td>58.0</td>\n",
       "      <td>mountain</td>\n",
       "    </tr>\n",
       "    <tr>\n",
       "      <th>4</th>\n",
       "      <td>Salt Lake City</td>\n",
       "      <td>366</td>\n",
       "      <td>21</td>\n",
       "      <td>50.0</td>\n",
       "      <td>mountain</td>\n",
       "    </tr>\n",
       "    <tr>\n",
       "      <th>5</th>\n",
       "      <td>Phoenix</td>\n",
       "      <td>366</td>\n",
       "      <td>70</td>\n",
       "      <td>75.0</td>\n",
       "      <td>mountain</td>\n",
       "    </tr>\n",
       "    <tr>\n",
       "      <th>6</th>\n",
       "      <td>Chicago</td>\n",
       "      <td>366</td>\n",
       "      <td>28</td>\n",
       "      <td>56.0</td>\n",
       "      <td>central</td>\n",
       "    </tr>\n",
       "    <tr>\n",
       "      <th>7</th>\n",
       "      <td>St. Louis</td>\n",
       "      <td>366</td>\n",
       "      <td>10</td>\n",
       "      <td>52.0</td>\n",
       "      <td>central</td>\n",
       "    </tr>\n",
       "    <tr>\n",
       "      <th>8</th>\n",
       "      <td>Dalas</td>\n",
       "      <td>306</td>\n",
       "      <td>24</td>\n",
       "      <td>49.0</td>\n",
       "      <td>central</td>\n",
       "    </tr>\n",
       "    <tr>\n",
       "      <th>9</th>\n",
       "      <td>Boston</td>\n",
       "      <td>306</td>\n",
       "      <td>0</td>\n",
       "      <td>42.0</td>\n",
       "      <td>east</td>\n",
       "    </tr>\n",
       "    <tr>\n",
       "      <th>10</th>\n",
       "      <td>Washington D.C.</td>\n",
       "      <td>366</td>\n",
       "      <td>3</td>\n",
       "      <td>42.0</td>\n",
       "      <td>east</td>\n",
       "    </tr>\n",
       "    <tr>\n",
       "      <th>11</th>\n",
       "      <td>Miami</td>\n",
       "      <td>275</td>\n",
       "      <td>2</td>\n",
       "      <td>44.0</td>\n",
       "      <td>east</td>\n",
       "    </tr>\n",
       "    <tr>\n",
       "      <th>0</th>\n",
       "      <td>Honolulu</td>\n",
       "      <td>366</td>\n",
       "      <td>0</td>\n",
       "      <td>26.0</td>\n",
       "      <td>west</td>\n",
       "    </tr>\n",
       "    <tr>\n",
       "      <th>1</th>\n",
       "      <td>Anchorage</td>\n",
       "      <td>366</td>\n",
       "      <td>0</td>\n",
       "      <td>22.0</td>\n",
       "      <td>west</td>\n",
       "    </tr>\n",
       "    <tr>\n",
       "      <th>2</th>\n",
       "      <td>Twin Falls</td>\n",
       "      <td>272</td>\n",
       "      <td>7</td>\n",
       "      <td>18.0</td>\n",
       "      <td>mountain</td>\n",
       "    </tr>\n",
       "    <tr>\n",
       "      <th>3</th>\n",
       "      <td>Dona Ann County</td>\n",
       "      <td>366</td>\n",
       "      <td>21</td>\n",
       "      <td>53.0</td>\n",
       "      <td>mountain</td>\n",
       "    </tr>\n",
       "    <tr>\n",
       "      <th>4</th>\n",
       "      <td>Lake County</td>\n",
       "      <td>366</td>\n",
       "      <td>10</td>\n",
       "      <td>36.5</td>\n",
       "      <td>central</td>\n",
       "    </tr>\n",
       "    <tr>\n",
       "      <th>5</th>\n",
       "      <td>Orleans Parish</td>\n",
       "      <td>366</td>\n",
       "      <td>0</td>\n",
       "      <td>27.0</td>\n",
       "      <td>central</td>\n",
       "    </tr>\n",
       "    <tr>\n",
       "      <th>6</th>\n",
       "      <td>Mercer County</td>\n",
       "      <td>366</td>\n",
       "      <td>3</td>\n",
       "      <td>38.0</td>\n",
       "      <td>east</td>\n",
       "    </tr>\n",
       "    <tr>\n",
       "      <th>7</th>\n",
       "      <td>Aroostook County</td>\n",
       "      <td>366</td>\n",
       "      <td>1</td>\n",
       "      <td>33.0</td>\n",
       "      <td>east</td>\n",
       "    </tr>\n",
       "  </tbody>\n",
       "</table>\n",
       "</div>"
      ],
      "text/plain": [
       "                City  Total_Days  Poor_Days  AQI_Median      Zone\n",
       "0            Seattle         306         14        42.0      west\n",
       "1      San Francisco         314         22        45.0      west\n",
       "2        Los Angeles         275        119        81.0      west\n",
       "3             Denver         366         34        58.0  mountain\n",
       "4     Salt Lake City         366         21        50.0  mountain\n",
       "5            Phoenix         366         70        75.0  mountain\n",
       "6            Chicago         366         28        56.0   central\n",
       "7          St. Louis         366         10        52.0   central\n",
       "8              Dalas         306         24        49.0   central\n",
       "9             Boston         306          0        42.0      east\n",
       "10   Washington D.C.         366          3        42.0      east\n",
       "11             Miami         275          2        44.0      east\n",
       "0           Honolulu         366          0        26.0      west\n",
       "1          Anchorage         366          0        22.0      west\n",
       "2         Twin Falls         272          7        18.0  mountain\n",
       "3    Dona Ann County         366         21        53.0  mountain\n",
       "4        Lake County         366         10        36.5   central\n",
       "5     Orleans Parish         366          0        27.0   central\n",
       "6      Mercer County         366          3        38.0      east\n",
       "7   Aroostook County         366          1        33.0      east"
      ]
     },
     "execution_count": 60,
     "metadata": {},
     "output_type": "execute_result"
    }
   ],
   "source": [
    "alldata"
   ]
  },
  {
   "cell_type": "code",
   "execution_count": 61,
   "id": "political-mozambique",
   "metadata": {},
   "outputs": [
    {
     "data": {
      "text/html": [
       "<div>\n",
       "<style scoped>\n",
       "    .dataframe tbody tr th:only-of-type {\n",
       "        vertical-align: middle;\n",
       "    }\n",
       "\n",
       "    .dataframe tbody tr th {\n",
       "        vertical-align: top;\n",
       "    }\n",
       "\n",
       "    .dataframe thead th {\n",
       "        text-align: right;\n",
       "    }\n",
       "</style>\n",
       "<table border=\"1\" class=\"dataframe\">\n",
       "  <thead>\n",
       "    <tr style=\"text-align: right;\">\n",
       "      <th></th>\n",
       "      <th>Total_Days</th>\n",
       "      <th>Poor_Days</th>\n",
       "      <th>AQI_Median</th>\n",
       "    </tr>\n",
       "  </thead>\n",
       "  <tbody>\n",
       "    <tr>\n",
       "      <th>count</th>\n",
       "      <td>20.000000</td>\n",
       "      <td>20.000000</td>\n",
       "      <td>20.000000</td>\n",
       "    </tr>\n",
       "    <tr>\n",
       "      <th>mean</th>\n",
       "      <td>340.600000</td>\n",
       "      <td>19.450000</td>\n",
       "      <td>44.475000</td>\n",
       "    </tr>\n",
       "    <tr>\n",
       "      <th>std</th>\n",
       "      <td>36.991322</td>\n",
       "      <td>28.878101</td>\n",
       "      <td>16.011078</td>\n",
       "    </tr>\n",
       "    <tr>\n",
       "      <th>min</th>\n",
       "      <td>272.000000</td>\n",
       "      <td>0.000000</td>\n",
       "      <td>18.000000</td>\n",
       "    </tr>\n",
       "    <tr>\n",
       "      <th>25%</th>\n",
       "      <td>306.000000</td>\n",
       "      <td>1.750000</td>\n",
       "      <td>35.625000</td>\n",
       "    </tr>\n",
       "    <tr>\n",
       "      <th>50%</th>\n",
       "      <td>366.000000</td>\n",
       "      <td>10.000000</td>\n",
       "      <td>43.000000</td>\n",
       "    </tr>\n",
       "    <tr>\n",
       "      <th>75%</th>\n",
       "      <td>366.000000</td>\n",
       "      <td>22.500000</td>\n",
       "      <td>52.250000</td>\n",
       "    </tr>\n",
       "    <tr>\n",
       "      <th>max</th>\n",
       "      <td>366.000000</td>\n",
       "      <td>119.000000</td>\n",
       "      <td>81.000000</td>\n",
       "    </tr>\n",
       "  </tbody>\n",
       "</table>\n",
       "</div>"
      ],
      "text/plain": [
       "       Total_Days   Poor_Days  AQI_Median\n",
       "count   20.000000   20.000000   20.000000\n",
       "mean   340.600000   19.450000   44.475000\n",
       "std     36.991322   28.878101   16.011078\n",
       "min    272.000000    0.000000   18.000000\n",
       "25%    306.000000    1.750000   35.625000\n",
       "50%    366.000000   10.000000   43.000000\n",
       "75%    366.000000   22.500000   52.250000\n",
       "max    366.000000  119.000000   81.000000"
      ]
     },
     "execution_count": 61,
     "metadata": {},
     "output_type": "execute_result"
    }
   ],
   "source": [
    "alldata.describe()"
   ]
  },
  {
   "cell_type": "code",
   "execution_count": 62,
   "id": "olympic-dressing",
   "metadata": {},
   "outputs": [
    {
     "data": {
      "text/plain": [
       "pandas.core.frame.DataFrame"
      ]
     },
     "execution_count": 62,
     "metadata": {},
     "output_type": "execute_result"
    }
   ],
   "source": [
    "type(alldata)"
   ]
  },
  {
   "cell_type": "code",
   "execution_count": 64,
   "id": "orange-valuable",
   "metadata": {},
   "outputs": [],
   "source": [
    "alldata = alldata.reset_index()"
   ]
  },
  {
   "cell_type": "code",
   "execution_count": 65,
   "id": "parental-lebanon",
   "metadata": {},
   "outputs": [],
   "source": [
    "alldata = alldata.drop(['index'], axis=1)"
   ]
  },
  {
   "cell_type": "code",
   "execution_count": 66,
   "id": "german-customer",
   "metadata": {},
   "outputs": [
    {
     "data": {
      "text/html": [
       "<div>\n",
       "<style scoped>\n",
       "    .dataframe tbody tr th:only-of-type {\n",
       "        vertical-align: middle;\n",
       "    }\n",
       "\n",
       "    .dataframe tbody tr th {\n",
       "        vertical-align: top;\n",
       "    }\n",
       "\n",
       "    .dataframe thead th {\n",
       "        text-align: right;\n",
       "    }\n",
       "</style>\n",
       "<table border=\"1\" class=\"dataframe\">\n",
       "  <thead>\n",
       "    <tr style=\"text-align: right;\">\n",
       "      <th></th>\n",
       "      <th>City</th>\n",
       "      <th>Total_Days</th>\n",
       "      <th>Poor_Days</th>\n",
       "      <th>AQI_Median</th>\n",
       "      <th>Zone</th>\n",
       "    </tr>\n",
       "  </thead>\n",
       "  <tbody>\n",
       "    <tr>\n",
       "      <th>0</th>\n",
       "      <td>Seattle</td>\n",
       "      <td>306</td>\n",
       "      <td>14</td>\n",
       "      <td>42.0</td>\n",
       "      <td>west</td>\n",
       "    </tr>\n",
       "    <tr>\n",
       "      <th>1</th>\n",
       "      <td>San Francisco</td>\n",
       "      <td>314</td>\n",
       "      <td>22</td>\n",
       "      <td>45.0</td>\n",
       "      <td>west</td>\n",
       "    </tr>\n",
       "    <tr>\n",
       "      <th>2</th>\n",
       "      <td>Los Angeles</td>\n",
       "      <td>275</td>\n",
       "      <td>119</td>\n",
       "      <td>81.0</td>\n",
       "      <td>west</td>\n",
       "    </tr>\n",
       "    <tr>\n",
       "      <th>3</th>\n",
       "      <td>Denver</td>\n",
       "      <td>366</td>\n",
       "      <td>34</td>\n",
       "      <td>58.0</td>\n",
       "      <td>mountain</td>\n",
       "    </tr>\n",
       "    <tr>\n",
       "      <th>4</th>\n",
       "      <td>Salt Lake City</td>\n",
       "      <td>366</td>\n",
       "      <td>21</td>\n",
       "      <td>50.0</td>\n",
       "      <td>mountain</td>\n",
       "    </tr>\n",
       "    <tr>\n",
       "      <th>5</th>\n",
       "      <td>Phoenix</td>\n",
       "      <td>366</td>\n",
       "      <td>70</td>\n",
       "      <td>75.0</td>\n",
       "      <td>mountain</td>\n",
       "    </tr>\n",
       "    <tr>\n",
       "      <th>6</th>\n",
       "      <td>Chicago</td>\n",
       "      <td>366</td>\n",
       "      <td>28</td>\n",
       "      <td>56.0</td>\n",
       "      <td>central</td>\n",
       "    </tr>\n",
       "    <tr>\n",
       "      <th>7</th>\n",
       "      <td>St. Louis</td>\n",
       "      <td>366</td>\n",
       "      <td>10</td>\n",
       "      <td>52.0</td>\n",
       "      <td>central</td>\n",
       "    </tr>\n",
       "    <tr>\n",
       "      <th>8</th>\n",
       "      <td>Dalas</td>\n",
       "      <td>306</td>\n",
       "      <td>24</td>\n",
       "      <td>49.0</td>\n",
       "      <td>central</td>\n",
       "    </tr>\n",
       "    <tr>\n",
       "      <th>9</th>\n",
       "      <td>Boston</td>\n",
       "      <td>306</td>\n",
       "      <td>0</td>\n",
       "      <td>42.0</td>\n",
       "      <td>east</td>\n",
       "    </tr>\n",
       "    <tr>\n",
       "      <th>10</th>\n",
       "      <td>Washington D.C.</td>\n",
       "      <td>366</td>\n",
       "      <td>3</td>\n",
       "      <td>42.0</td>\n",
       "      <td>east</td>\n",
       "    </tr>\n",
       "    <tr>\n",
       "      <th>11</th>\n",
       "      <td>Miami</td>\n",
       "      <td>275</td>\n",
       "      <td>2</td>\n",
       "      <td>44.0</td>\n",
       "      <td>east</td>\n",
       "    </tr>\n",
       "    <tr>\n",
       "      <th>12</th>\n",
       "      <td>Honolulu</td>\n",
       "      <td>366</td>\n",
       "      <td>0</td>\n",
       "      <td>26.0</td>\n",
       "      <td>west</td>\n",
       "    </tr>\n",
       "    <tr>\n",
       "      <th>13</th>\n",
       "      <td>Anchorage</td>\n",
       "      <td>366</td>\n",
       "      <td>0</td>\n",
       "      <td>22.0</td>\n",
       "      <td>west</td>\n",
       "    </tr>\n",
       "    <tr>\n",
       "      <th>14</th>\n",
       "      <td>Twin Falls</td>\n",
       "      <td>272</td>\n",
       "      <td>7</td>\n",
       "      <td>18.0</td>\n",
       "      <td>mountain</td>\n",
       "    </tr>\n",
       "    <tr>\n",
       "      <th>15</th>\n",
       "      <td>Dona Ann County</td>\n",
       "      <td>366</td>\n",
       "      <td>21</td>\n",
       "      <td>53.0</td>\n",
       "      <td>mountain</td>\n",
       "    </tr>\n",
       "    <tr>\n",
       "      <th>16</th>\n",
       "      <td>Lake County</td>\n",
       "      <td>366</td>\n",
       "      <td>10</td>\n",
       "      <td>36.5</td>\n",
       "      <td>central</td>\n",
       "    </tr>\n",
       "    <tr>\n",
       "      <th>17</th>\n",
       "      <td>Orleans Parish</td>\n",
       "      <td>366</td>\n",
       "      <td>0</td>\n",
       "      <td>27.0</td>\n",
       "      <td>central</td>\n",
       "    </tr>\n",
       "    <tr>\n",
       "      <th>18</th>\n",
       "      <td>Mercer County</td>\n",
       "      <td>366</td>\n",
       "      <td>3</td>\n",
       "      <td>38.0</td>\n",
       "      <td>east</td>\n",
       "    </tr>\n",
       "    <tr>\n",
       "      <th>19</th>\n",
       "      <td>Aroostook County</td>\n",
       "      <td>366</td>\n",
       "      <td>1</td>\n",
       "      <td>33.0</td>\n",
       "      <td>east</td>\n",
       "    </tr>\n",
       "  </tbody>\n",
       "</table>\n",
       "</div>"
      ],
      "text/plain": [
       "                City  Total_Days  Poor_Days  AQI_Median      Zone\n",
       "0            Seattle         306         14        42.0      west\n",
       "1      San Francisco         314         22        45.0      west\n",
       "2        Los Angeles         275        119        81.0      west\n",
       "3             Denver         366         34        58.0  mountain\n",
       "4     Salt Lake City         366         21        50.0  mountain\n",
       "5            Phoenix         366         70        75.0  mountain\n",
       "6            Chicago         366         28        56.0   central\n",
       "7          St. Louis         366         10        52.0   central\n",
       "8              Dalas         306         24        49.0   central\n",
       "9             Boston         306          0        42.0      east\n",
       "10   Washington D.C.         366          3        42.0      east\n",
       "11             Miami         275          2        44.0      east\n",
       "12          Honolulu         366          0        26.0      west\n",
       "13         Anchorage         366          0        22.0      west\n",
       "14        Twin Falls         272          7        18.0  mountain\n",
       "15   Dona Ann County         366         21        53.0  mountain\n",
       "16       Lake County         366         10        36.5   central\n",
       "17    Orleans Parish         366          0        27.0   central\n",
       "18     Mercer County         366          3        38.0      east\n",
       "19  Aroostook County         366          1        33.0      east"
      ]
     },
     "execution_count": 66,
     "metadata": {},
     "output_type": "execute_result"
    }
   ],
   "source": [
    "alldata"
   ]
  },
  {
   "cell_type": "markdown",
   "id": "rapid-classic",
   "metadata": {},
   "source": [
    " # 1"
   ]
  },
  {
   "cell_type": "code",
   "execution_count": 67,
   "id": "lasting-letter",
   "metadata": {},
   "outputs": [
    {
     "data": {
      "text/plain": [
       "(20, 5)"
      ]
     },
     "execution_count": 67,
     "metadata": {},
     "output_type": "execute_result"
    }
   ],
   "source": [
    "alldata.shape"
   ]
  },
  {
   "cell_type": "markdown",
   "id": "experienced-words",
   "metadata": {},
   "source": [
    " # 2"
   ]
  },
  {
   "cell_type": "code",
   "execution_count": 68,
   "id": "painful-happening",
   "metadata": {},
   "outputs": [
    {
     "data": {
      "text/plain": [
       "City           object\n",
       "Total_Days      int64\n",
       "Poor_Days       int64\n",
       "AQI_Median    float64\n",
       "Zone           object\n",
       "dtype: object"
      ]
     },
     "execution_count": 68,
     "metadata": {},
     "output_type": "execute_result"
    }
   ],
   "source": [
    "alldata.dtypes"
   ]
  },
  {
   "cell_type": "markdown",
   "id": "sonic-object",
   "metadata": {},
   "source": [
    " # 3"
   ]
  },
  {
   "cell_type": "code",
   "execution_count": 69,
   "id": "impressed-setup",
   "metadata": {},
   "outputs": [
    {
     "data": {
      "text/plain": [
       "389"
      ]
     },
     "execution_count": 69,
     "metadata": {},
     "output_type": "execute_result"
    }
   ],
   "source": [
    "sum(alldata.Poor_Days)"
   ]
  },
  {
   "cell_type": "markdown",
   "id": "appropriate-substitute",
   "metadata": {},
   "source": [
    " # 4"
   ]
  },
  {
   "cell_type": "code",
   "execution_count": 73,
   "id": "frequent-spiritual",
   "metadata": {},
   "outputs": [],
   "source": [
    "mean1 = sum(alldata.Poor_Days)/len(alldata.Poor_Days)"
   ]
  },
  {
   "cell_type": "code",
   "execution_count": 74,
   "id": "qualified-chile",
   "metadata": {},
   "outputs": [
    {
     "data": {
      "text/plain": [
       "19.45"
      ]
     },
     "execution_count": 74,
     "metadata": {},
     "output_type": "execute_result"
    }
   ],
   "source": [
    "mean1"
   ]
  },
  {
   "cell_type": "markdown",
   "id": "fixed-omaha",
   "metadata": {},
   "source": [
    " # 5"
   ]
  },
  {
   "cell_type": "code",
   "execution_count": 75,
   "id": "understanding-variable",
   "metadata": {},
   "outputs": [],
   "source": [
    "mean2 = sum(alldata.AQI_Median)/len(alldata.AQI_Median)"
   ]
  },
  {
   "cell_type": "code",
   "execution_count": 76,
   "id": "prerequisite-swedish",
   "metadata": {},
   "outputs": [
    {
     "data": {
      "text/plain": [
       "44.475"
      ]
     },
     "execution_count": 76,
     "metadata": {},
     "output_type": "execute_result"
    }
   ],
   "source": [
    "mean2"
   ]
  },
  {
   "cell_type": "markdown",
   "id": "respiratory-peeing",
   "metadata": {},
   "source": [
    " # 6 "
   ]
  },
  {
   "cell_type": "code",
   "execution_count": 107,
   "id": "affected-federation",
   "metadata": {},
   "outputs": [],
   "source": [
    "groupby = alldata.groupby(['Zone']).sum()"
   ]
  },
  {
   "cell_type": "code",
   "execution_count": 108,
   "id": "opponent-athens",
   "metadata": {},
   "outputs": [
    {
     "data": {
      "text/html": [
       "<div>\n",
       "<style scoped>\n",
       "    .dataframe tbody tr th:only-of-type {\n",
       "        vertical-align: middle;\n",
       "    }\n",
       "\n",
       "    .dataframe tbody tr th {\n",
       "        vertical-align: top;\n",
       "    }\n",
       "\n",
       "    .dataframe thead th {\n",
       "        text-align: right;\n",
       "    }\n",
       "</style>\n",
       "<table border=\"1\" class=\"dataframe\">\n",
       "  <thead>\n",
       "    <tr style=\"text-align: right;\">\n",
       "      <th></th>\n",
       "      <th>Total_Days</th>\n",
       "      <th>Poor_Days</th>\n",
       "      <th>AQI_Median</th>\n",
       "    </tr>\n",
       "    <tr>\n",
       "      <th>Zone</th>\n",
       "      <th></th>\n",
       "      <th></th>\n",
       "      <th></th>\n",
       "    </tr>\n",
       "  </thead>\n",
       "  <tbody>\n",
       "    <tr>\n",
       "      <th>central</th>\n",
       "      <td>1770</td>\n",
       "      <td>72</td>\n",
       "      <td>220.5</td>\n",
       "    </tr>\n",
       "    <tr>\n",
       "      <th>east</th>\n",
       "      <td>1679</td>\n",
       "      <td>9</td>\n",
       "      <td>199.0</td>\n",
       "    </tr>\n",
       "    <tr>\n",
       "      <th>mountain</th>\n",
       "      <td>1736</td>\n",
       "      <td>153</td>\n",
       "      <td>254.0</td>\n",
       "    </tr>\n",
       "    <tr>\n",
       "      <th>west</th>\n",
       "      <td>1627</td>\n",
       "      <td>155</td>\n",
       "      <td>216.0</td>\n",
       "    </tr>\n",
       "  </tbody>\n",
       "</table>\n",
       "</div>"
      ],
      "text/plain": [
       "          Total_Days  Poor_Days  AQI_Median\n",
       "Zone                                       \n",
       "central         1770         72       220.5\n",
       "east            1679          9       199.0\n",
       "mountain        1736        153       254.0\n",
       "west            1627        155       216.0"
      ]
     },
     "execution_count": 108,
     "metadata": {},
     "output_type": "execute_result"
    }
   ],
   "source": [
    "groupby"
   ]
  },
  {
   "cell_type": "code",
   "execution_count": 109,
   "id": "square-depression",
   "metadata": {},
   "outputs": [
    {
     "data": {
      "text/plain": [
       "pandas.core.frame.DataFrame"
      ]
     },
     "execution_count": 109,
     "metadata": {},
     "output_type": "execute_result"
    }
   ],
   "source": [
    "type(groupby)"
   ]
  },
  {
   "cell_type": "code",
   "execution_count": 113,
   "id": "educational-questionnaire",
   "metadata": {},
   "outputs": [],
   "source": [
    "groupbysum = groupby.drop(['Total_Days','AQI_Median'], axis=1)"
   ]
  },
  {
   "cell_type": "code",
   "execution_count": 114,
   "id": "impressed-castle",
   "metadata": {},
   "outputs": [
    {
     "data": {
      "text/plain": [
       "pandas.core.frame.DataFrame"
      ]
     },
     "execution_count": 114,
     "metadata": {},
     "output_type": "execute_result"
    }
   ],
   "source": [
    "type(groupbysum)"
   ]
  },
  {
   "cell_type": "code",
   "execution_count": 115,
   "id": "raised-disability",
   "metadata": {},
   "outputs": [
    {
     "data": {
      "text/html": [
       "<div>\n",
       "<style scoped>\n",
       "    .dataframe tbody tr th:only-of-type {\n",
       "        vertical-align: middle;\n",
       "    }\n",
       "\n",
       "    .dataframe tbody tr th {\n",
       "        vertical-align: top;\n",
       "    }\n",
       "\n",
       "    .dataframe thead th {\n",
       "        text-align: right;\n",
       "    }\n",
       "</style>\n",
       "<table border=\"1\" class=\"dataframe\">\n",
       "  <thead>\n",
       "    <tr style=\"text-align: right;\">\n",
       "      <th></th>\n",
       "      <th>Poor_Days</th>\n",
       "    </tr>\n",
       "    <tr>\n",
       "      <th>Zone</th>\n",
       "      <th></th>\n",
       "    </tr>\n",
       "  </thead>\n",
       "  <tbody>\n",
       "    <tr>\n",
       "      <th>central</th>\n",
       "      <td>72</td>\n",
       "    </tr>\n",
       "    <tr>\n",
       "      <th>east</th>\n",
       "      <td>9</td>\n",
       "    </tr>\n",
       "    <tr>\n",
       "      <th>mountain</th>\n",
       "      <td>153</td>\n",
       "    </tr>\n",
       "    <tr>\n",
       "      <th>west</th>\n",
       "      <td>155</td>\n",
       "    </tr>\n",
       "  </tbody>\n",
       "</table>\n",
       "</div>"
      ],
      "text/plain": [
       "          Poor_Days\n",
       "Zone               \n",
       "central          72\n",
       "east              9\n",
       "mountain        153\n",
       "west            155"
      ]
     },
     "execution_count": 115,
     "metadata": {},
     "output_type": "execute_result"
    }
   ],
   "source": [
    "groupbysum"
   ]
  },
  {
   "cell_type": "markdown",
   "id": "hundred-decrease",
   "metadata": {},
   "source": [
    " # 7"
   ]
  },
  {
   "cell_type": "code",
   "execution_count": 173,
   "id": "double-finger",
   "metadata": {},
   "outputs": [],
   "source": [
    "Poor_Dayavg = alldata.groupby(['Zone'])['Poor_Days'].mean()"
   ]
  },
  {
   "cell_type": "code",
   "execution_count": 174,
   "id": "entire-grocery",
   "metadata": {},
   "outputs": [
    {
     "data": {
      "text/plain": [
       "Zone\n",
       "central     14.4\n",
       "east         1.8\n",
       "mountain    30.6\n",
       "west        31.0\n",
       "Name: Poor_Days, dtype: float64"
      ]
     },
     "execution_count": 174,
     "metadata": {},
     "output_type": "execute_result"
    }
   ],
   "source": [
    "Poor_Dayavg"
   ]
  },
  {
   "cell_type": "markdown",
   "id": "impressive-creator",
   "metadata": {},
   "source": [
    " # 8"
   ]
  },
  {
   "cell_type": "code",
   "execution_count": 175,
   "id": "thirty-virgin",
   "metadata": {},
   "outputs": [],
   "source": [
    "AQI_Medianavg = alldata.groupby(['Zone'])['AQI_Median'].mean()"
   ]
  },
  {
   "cell_type": "code",
   "execution_count": 176,
   "id": "random-pillow",
   "metadata": {},
   "outputs": [
    {
     "data": {
      "text/plain": [
       "Zone\n",
       "central     44.1\n",
       "east        39.8\n",
       "mountain    50.8\n",
       "west        43.2\n",
       "Name: AQI_Median, dtype: float64"
      ]
     },
     "execution_count": 176,
     "metadata": {},
     "output_type": "execute_result"
    }
   ],
   "source": [
    "AQI_Medianavg"
   ]
  },
  {
   "cell_type": "code",
   "execution_count": 177,
   "id": "linear-immunology",
   "metadata": {},
   "outputs": [],
   "source": [
    "alldata.to_csv('allcitiesAQI.csv', index = False)"
   ]
  },
  {
   "cell_type": "code",
   "execution_count": 178,
   "id": "incoming-stomach",
   "metadata": {},
   "outputs": [
    {
     "data": {
      "text/html": [
       "<div>\n",
       "<style scoped>\n",
       "    .dataframe tbody tr th:only-of-type {\n",
       "        vertical-align: middle;\n",
       "    }\n",
       "\n",
       "    .dataframe tbody tr th {\n",
       "        vertical-align: top;\n",
       "    }\n",
       "\n",
       "    .dataframe thead th {\n",
       "        text-align: right;\n",
       "    }\n",
       "</style>\n",
       "<table border=\"1\" class=\"dataframe\">\n",
       "  <thead>\n",
       "    <tr style=\"text-align: right;\">\n",
       "      <th></th>\n",
       "      <th>City</th>\n",
       "      <th>Total_Days</th>\n",
       "      <th>Poor_Days</th>\n",
       "      <th>AQI_Median</th>\n",
       "      <th>Zone</th>\n",
       "    </tr>\n",
       "  </thead>\n",
       "  <tbody>\n",
       "    <tr>\n",
       "      <th>0</th>\n",
       "      <td>Seattle</td>\n",
       "      <td>306</td>\n",
       "      <td>14</td>\n",
       "      <td>42.0</td>\n",
       "      <td>west</td>\n",
       "    </tr>\n",
       "    <tr>\n",
       "      <th>1</th>\n",
       "      <td>San Francisco</td>\n",
       "      <td>314</td>\n",
       "      <td>22</td>\n",
       "      <td>45.0</td>\n",
       "      <td>west</td>\n",
       "    </tr>\n",
       "    <tr>\n",
       "      <th>2</th>\n",
       "      <td>Los Angeles</td>\n",
       "      <td>275</td>\n",
       "      <td>119</td>\n",
       "      <td>81.0</td>\n",
       "      <td>west</td>\n",
       "    </tr>\n",
       "    <tr>\n",
       "      <th>3</th>\n",
       "      <td>Denver</td>\n",
       "      <td>366</td>\n",
       "      <td>34</td>\n",
       "      <td>58.0</td>\n",
       "      <td>mountain</td>\n",
       "    </tr>\n",
       "    <tr>\n",
       "      <th>4</th>\n",
       "      <td>Salt Lake City</td>\n",
       "      <td>366</td>\n",
       "      <td>21</td>\n",
       "      <td>50.0</td>\n",
       "      <td>mountain</td>\n",
       "    </tr>\n",
       "    <tr>\n",
       "      <th>5</th>\n",
       "      <td>Phoenix</td>\n",
       "      <td>366</td>\n",
       "      <td>70</td>\n",
       "      <td>75.0</td>\n",
       "      <td>mountain</td>\n",
       "    </tr>\n",
       "    <tr>\n",
       "      <th>6</th>\n",
       "      <td>Chicago</td>\n",
       "      <td>366</td>\n",
       "      <td>28</td>\n",
       "      <td>56.0</td>\n",
       "      <td>central</td>\n",
       "    </tr>\n",
       "    <tr>\n",
       "      <th>7</th>\n",
       "      <td>St. Louis</td>\n",
       "      <td>366</td>\n",
       "      <td>10</td>\n",
       "      <td>52.0</td>\n",
       "      <td>central</td>\n",
       "    </tr>\n",
       "    <tr>\n",
       "      <th>8</th>\n",
       "      <td>Dalas</td>\n",
       "      <td>306</td>\n",
       "      <td>24</td>\n",
       "      <td>49.0</td>\n",
       "      <td>central</td>\n",
       "    </tr>\n",
       "    <tr>\n",
       "      <th>9</th>\n",
       "      <td>Boston</td>\n",
       "      <td>306</td>\n",
       "      <td>0</td>\n",
       "      <td>42.0</td>\n",
       "      <td>east</td>\n",
       "    </tr>\n",
       "    <tr>\n",
       "      <th>10</th>\n",
       "      <td>Washington D.C.</td>\n",
       "      <td>366</td>\n",
       "      <td>3</td>\n",
       "      <td>42.0</td>\n",
       "      <td>east</td>\n",
       "    </tr>\n",
       "    <tr>\n",
       "      <th>11</th>\n",
       "      <td>Miami</td>\n",
       "      <td>275</td>\n",
       "      <td>2</td>\n",
       "      <td>44.0</td>\n",
       "      <td>east</td>\n",
       "    </tr>\n",
       "    <tr>\n",
       "      <th>12</th>\n",
       "      <td>Honolulu</td>\n",
       "      <td>366</td>\n",
       "      <td>0</td>\n",
       "      <td>26.0</td>\n",
       "      <td>west</td>\n",
       "    </tr>\n",
       "    <tr>\n",
       "      <th>13</th>\n",
       "      <td>Anchorage</td>\n",
       "      <td>366</td>\n",
       "      <td>0</td>\n",
       "      <td>22.0</td>\n",
       "      <td>west</td>\n",
       "    </tr>\n",
       "    <tr>\n",
       "      <th>14</th>\n",
       "      <td>Twin Falls</td>\n",
       "      <td>272</td>\n",
       "      <td>7</td>\n",
       "      <td>18.0</td>\n",
       "      <td>mountain</td>\n",
       "    </tr>\n",
       "    <tr>\n",
       "      <th>15</th>\n",
       "      <td>Dona Ann County</td>\n",
       "      <td>366</td>\n",
       "      <td>21</td>\n",
       "      <td>53.0</td>\n",
       "      <td>mountain</td>\n",
       "    </tr>\n",
       "    <tr>\n",
       "      <th>16</th>\n",
       "      <td>Lake County</td>\n",
       "      <td>366</td>\n",
       "      <td>10</td>\n",
       "      <td>36.5</td>\n",
       "      <td>central</td>\n",
       "    </tr>\n",
       "    <tr>\n",
       "      <th>17</th>\n",
       "      <td>Orleans Parish</td>\n",
       "      <td>366</td>\n",
       "      <td>0</td>\n",
       "      <td>27.0</td>\n",
       "      <td>central</td>\n",
       "    </tr>\n",
       "    <tr>\n",
       "      <th>18</th>\n",
       "      <td>Mercer County</td>\n",
       "      <td>366</td>\n",
       "      <td>3</td>\n",
       "      <td>38.0</td>\n",
       "      <td>east</td>\n",
       "    </tr>\n",
       "    <tr>\n",
       "      <th>19</th>\n",
       "      <td>Aroostook County</td>\n",
       "      <td>366</td>\n",
       "      <td>1</td>\n",
       "      <td>33.0</td>\n",
       "      <td>east</td>\n",
       "    </tr>\n",
       "  </tbody>\n",
       "</table>\n",
       "</div>"
      ],
      "text/plain": [
       "                City  Total_Days  Poor_Days  AQI_Median      Zone\n",
       "0            Seattle         306         14        42.0      west\n",
       "1      San Francisco         314         22        45.0      west\n",
       "2        Los Angeles         275        119        81.0      west\n",
       "3             Denver         366         34        58.0  mountain\n",
       "4     Salt Lake City         366         21        50.0  mountain\n",
       "5            Phoenix         366         70        75.0  mountain\n",
       "6            Chicago         366         28        56.0   central\n",
       "7          St. Louis         366         10        52.0   central\n",
       "8              Dalas         306         24        49.0   central\n",
       "9             Boston         306          0        42.0      east\n",
       "10   Washington D.C.         366          3        42.0      east\n",
       "11             Miami         275          2        44.0      east\n",
       "12          Honolulu         366          0        26.0      west\n",
       "13         Anchorage         366          0        22.0      west\n",
       "14        Twin Falls         272          7        18.0  mountain\n",
       "15   Dona Ann County         366         21        53.0  mountain\n",
       "16       Lake County         366         10        36.5   central\n",
       "17    Orleans Parish         366          0        27.0   central\n",
       "18     Mercer County         366          3        38.0      east\n",
       "19  Aroostook County         366          1        33.0      east"
      ]
     },
     "execution_count": 178,
     "metadata": {},
     "output_type": "execute_result"
    }
   ],
   "source": [
    "alldata"
   ]
  },
  {
   "cell_type": "code",
   "execution_count": null,
   "id": "better-receipt",
   "metadata": {},
   "outputs": [],
   "source": []
  }
 ],
 "metadata": {
  "kernelspec": {
   "display_name": "Python 3",
   "language": "python",
   "name": "python3"
  },
  "language_info": {
   "codemirror_mode": {
    "name": "ipython",
    "version": 3
   },
   "file_extension": ".py",
   "mimetype": "text/x-python",
   "name": "python",
   "nbconvert_exporter": "python",
   "pygments_lexer": "ipython3",
   "version": "3.8.8"
  }
 },
 "nbformat": 4,
 "nbformat_minor": 5
}
