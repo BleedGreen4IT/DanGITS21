{
 "cells": [
  {
   "cell_type": "code",
   "execution_count": 1,
   "id": "african-arabic",
   "metadata": {},
   "outputs": [],
   "source": [
    "# Lists\n",
    "city = ['Burlington','Portland','Concord','Boston','Worcester','Hartford','Providence']\n",
    "state = ['VT','ME','NH','MA','MA','CT','RI']\n",
    "lat = [44.4683,43.6497,42.2015,42.3606,42.2706,41.9375,41.7225]\n",
    "lon = [-73.1499,-70.3002,-71.5002,-71.0097,-71.8731,-72.6819,-71.4325]\n",
    "snow = [81.2,61.9,61.4,43.8,64.1,40.5,33.8]\n",
    "dirv = ['N','N','N','S','S','S','S']"
   ]
  },
  {
   "cell_type": "code",
   "execution_count": 2,
   "id": "discrete-blade",
   "metadata": {},
   "outputs": [
    {
     "name": "stdout",
     "output_type": "stream",
     "text": [
      "[1, 2, 3, 4, 5, 6, 7, 8, 9, 10]\n",
      "[ 1  2  3  4  5  6  7  8  9 10]\n"
     ]
    },
    {
     "data": {
      "text/plain": [
       "(10,)"
      ]
     },
     "execution_count": 2,
     "metadata": {},
     "output_type": "execute_result"
    }
   ],
   "source": [
    "import numpy as np \n",
    "list1 = [1,2,3,4,5,6,7,8,9,10]\n",
    "list2 = [1,2,3,4,5,6,7,8,9,10]\n",
    "list3 = list1 + list2 \n",
    "nplist1 = np.array(list1)\n",
    "nplist2 = np.array(list2)\n",
    "type(nplist1)\n",
    "print(list1)\n",
    "print(nplist1)\n",
    "npsum = nplist1 * nplist2\n",
    "npsum\n",
    "npsumlist = list(npsum)\n",
    "nplist1.shape"
   ]
  },
  {
   "cell_type": "code",
   "execution_count": 3,
   "id": "alone-baker",
   "metadata": {},
   "outputs": [
    {
     "data": {
      "text/plain": [
       "['Concord', 'Boston']"
      ]
     },
     "execution_count": 3,
     "metadata": {},
     "output_type": "execute_result"
    }
   ],
   "source": [
    "city[2:4]"
   ]
  },
  {
   "cell_type": "code",
   "execution_count": 4,
   "id": "allied-trail",
   "metadata": {},
   "outputs": [],
   "source": [
    "# A Dictionary needs curly brackets\n",
    "myd = {'City':city, 'State':state, 'Lat':lat, 'Long':lon, 'Snowfall':snow, 'Direction':dirv}"
   ]
  },
  {
   "cell_type": "code",
   "execution_count": 5,
   "id": "wooden-australia",
   "metadata": {},
   "outputs": [],
   "source": [
    "# Create a Pandas Dataframe\n",
    "import pandas as pd\n",
    "\n",
    "large = pd.DataFrame(myd)"
   ]
  },
  {
   "cell_type": "code",
   "execution_count": 6,
   "id": "supported-entity",
   "metadata": {},
   "outputs": [
    {
     "data": {
      "text/html": [
       "<div>\n",
       "<style scoped>\n",
       "    .dataframe tbody tr th:only-of-type {\n",
       "        vertical-align: middle;\n",
       "    }\n",
       "\n",
       "    .dataframe tbody tr th {\n",
       "        vertical-align: top;\n",
       "    }\n",
       "\n",
       "    .dataframe thead th {\n",
       "        text-align: right;\n",
       "    }\n",
       "</style>\n",
       "<table border=\"1\" class=\"dataframe\">\n",
       "  <thead>\n",
       "    <tr style=\"text-align: right;\">\n",
       "      <th></th>\n",
       "      <th>City</th>\n",
       "      <th>State</th>\n",
       "      <th>Lat</th>\n",
       "      <th>Long</th>\n",
       "      <th>Snowfall</th>\n",
       "      <th>Direction</th>\n",
       "    </tr>\n",
       "  </thead>\n",
       "  <tbody>\n",
       "    <tr>\n",
       "      <th>0</th>\n",
       "      <td>Burlington</td>\n",
       "      <td>VT</td>\n",
       "      <td>44.4683</td>\n",
       "      <td>-73.1499</td>\n",
       "      <td>81.2</td>\n",
       "      <td>N</td>\n",
       "    </tr>\n",
       "    <tr>\n",
       "      <th>1</th>\n",
       "      <td>Portland</td>\n",
       "      <td>ME</td>\n",
       "      <td>43.6497</td>\n",
       "      <td>-70.3002</td>\n",
       "      <td>61.9</td>\n",
       "      <td>N</td>\n",
       "    </tr>\n",
       "    <tr>\n",
       "      <th>2</th>\n",
       "      <td>Concord</td>\n",
       "      <td>NH</td>\n",
       "      <td>42.2015</td>\n",
       "      <td>-71.5002</td>\n",
       "      <td>61.4</td>\n",
       "      <td>N</td>\n",
       "    </tr>\n",
       "    <tr>\n",
       "      <th>3</th>\n",
       "      <td>Boston</td>\n",
       "      <td>MA</td>\n",
       "      <td>42.3606</td>\n",
       "      <td>-71.0097</td>\n",
       "      <td>43.8</td>\n",
       "      <td>S</td>\n",
       "    </tr>\n",
       "    <tr>\n",
       "      <th>4</th>\n",
       "      <td>Worcester</td>\n",
       "      <td>MA</td>\n",
       "      <td>42.2706</td>\n",
       "      <td>-71.8731</td>\n",
       "      <td>64.1</td>\n",
       "      <td>S</td>\n",
       "    </tr>\n",
       "    <tr>\n",
       "      <th>5</th>\n",
       "      <td>Hartford</td>\n",
       "      <td>CT</td>\n",
       "      <td>41.9375</td>\n",
       "      <td>-72.6819</td>\n",
       "      <td>40.5</td>\n",
       "      <td>S</td>\n",
       "    </tr>\n",
       "    <tr>\n",
       "      <th>6</th>\n",
       "      <td>Providence</td>\n",
       "      <td>RI</td>\n",
       "      <td>41.7225</td>\n",
       "      <td>-71.4325</td>\n",
       "      <td>33.8</td>\n",
       "      <td>S</td>\n",
       "    </tr>\n",
       "  </tbody>\n",
       "</table>\n",
       "</div>"
      ],
      "text/plain": [
       "         City State      Lat     Long  Snowfall Direction\n",
       "0  Burlington    VT  44.4683 -73.1499      81.2         N\n",
       "1    Portland    ME  43.6497 -70.3002      61.9         N\n",
       "2     Concord    NH  42.2015 -71.5002      61.4         N\n",
       "3      Boston    MA  42.3606 -71.0097      43.8         S\n",
       "4   Worcester    MA  42.2706 -71.8731      64.1         S\n",
       "5    Hartford    CT  41.9375 -72.6819      40.5         S\n",
       "6  Providence    RI  41.7225 -71.4325      33.8         S"
      ]
     },
     "execution_count": 6,
     "metadata": {},
     "output_type": "execute_result"
    }
   ],
   "source": [
    "large"
   ]
  },
  {
   "cell_type": "code",
   "execution_count": 7,
   "id": "retained-article",
   "metadata": {},
   "outputs": [],
   "source": [
    "df2 = pd.DataFrame({'City':city, 'State':state, 'Lat':lat, 'Long':lon, 'Snowfall':snow, 'Direction':dirv})"
   ]
  },
  {
   "cell_type": "code",
   "execution_count": 8,
   "id": "external-split",
   "metadata": {},
   "outputs": [
    {
     "data": {
      "text/html": [
       "<div>\n",
       "<style scoped>\n",
       "    .dataframe tbody tr th:only-of-type {\n",
       "        vertical-align: middle;\n",
       "    }\n",
       "\n",
       "    .dataframe tbody tr th {\n",
       "        vertical-align: top;\n",
       "    }\n",
       "\n",
       "    .dataframe thead th {\n",
       "        text-align: right;\n",
       "    }\n",
       "</style>\n",
       "<table border=\"1\" class=\"dataframe\">\n",
       "  <thead>\n",
       "    <tr style=\"text-align: right;\">\n",
       "      <th></th>\n",
       "      <th>City</th>\n",
       "      <th>State</th>\n",
       "      <th>Lat</th>\n",
       "      <th>Long</th>\n",
       "      <th>Snowfall</th>\n",
       "      <th>Direction</th>\n",
       "    </tr>\n",
       "  </thead>\n",
       "  <tbody>\n",
       "    <tr>\n",
       "      <th>0</th>\n",
       "      <td>Burlington</td>\n",
       "      <td>VT</td>\n",
       "      <td>44.4683</td>\n",
       "      <td>-73.1499</td>\n",
       "      <td>81.2</td>\n",
       "      <td>N</td>\n",
       "    </tr>\n",
       "    <tr>\n",
       "      <th>1</th>\n",
       "      <td>Portland</td>\n",
       "      <td>ME</td>\n",
       "      <td>43.6497</td>\n",
       "      <td>-70.3002</td>\n",
       "      <td>61.9</td>\n",
       "      <td>N</td>\n",
       "    </tr>\n",
       "    <tr>\n",
       "      <th>2</th>\n",
       "      <td>Concord</td>\n",
       "      <td>NH</td>\n",
       "      <td>42.2015</td>\n",
       "      <td>-71.5002</td>\n",
       "      <td>61.4</td>\n",
       "      <td>N</td>\n",
       "    </tr>\n",
       "    <tr>\n",
       "      <th>3</th>\n",
       "      <td>Boston</td>\n",
       "      <td>MA</td>\n",
       "      <td>42.3606</td>\n",
       "      <td>-71.0097</td>\n",
       "      <td>43.8</td>\n",
       "      <td>S</td>\n",
       "    </tr>\n",
       "    <tr>\n",
       "      <th>4</th>\n",
       "      <td>Worcester</td>\n",
       "      <td>MA</td>\n",
       "      <td>42.2706</td>\n",
       "      <td>-71.8731</td>\n",
       "      <td>64.1</td>\n",
       "      <td>S</td>\n",
       "    </tr>\n",
       "    <tr>\n",
       "      <th>5</th>\n",
       "      <td>Hartford</td>\n",
       "      <td>CT</td>\n",
       "      <td>41.9375</td>\n",
       "      <td>-72.6819</td>\n",
       "      <td>40.5</td>\n",
       "      <td>S</td>\n",
       "    </tr>\n",
       "    <tr>\n",
       "      <th>6</th>\n",
       "      <td>Providence</td>\n",
       "      <td>RI</td>\n",
       "      <td>41.7225</td>\n",
       "      <td>-71.4325</td>\n",
       "      <td>33.8</td>\n",
       "      <td>S</td>\n",
       "    </tr>\n",
       "  </tbody>\n",
       "</table>\n",
       "</div>"
      ],
      "text/plain": [
       "         City State      Lat     Long  Snowfall Direction\n",
       "0  Burlington    VT  44.4683 -73.1499      81.2         N\n",
       "1    Portland    ME  43.6497 -70.3002      61.9         N\n",
       "2     Concord    NH  42.2015 -71.5002      61.4         N\n",
       "3      Boston    MA  42.3606 -71.0097      43.8         S\n",
       "4   Worcester    MA  42.2706 -71.8731      64.1         S\n",
       "5    Hartford    CT  41.9375 -72.6819      40.5         S\n",
       "6  Providence    RI  41.7225 -71.4325      33.8         S"
      ]
     },
     "execution_count": 8,
     "metadata": {},
     "output_type": "execute_result"
    }
   ],
   "source": [
    "df2"
   ]
  },
  {
   "cell_type": "code",
   "execution_count": 9,
   "id": "comparable-kazakhstan",
   "metadata": {},
   "outputs": [],
   "source": [
    "small = pd.read_csv('secondary.csv')"
   ]
  },
  {
   "cell_type": "code",
   "execution_count": 10,
   "id": "sufficient-template",
   "metadata": {},
   "outputs": [
    {
     "data": {
      "text/html": [
       "<div>\n",
       "<style scoped>\n",
       "    .dataframe tbody tr th:only-of-type {\n",
       "        vertical-align: middle;\n",
       "    }\n",
       "\n",
       "    .dataframe tbody tr th {\n",
       "        vertical-align: top;\n",
       "    }\n",
       "\n",
       "    .dataframe thead th {\n",
       "        text-align: right;\n",
       "    }\n",
       "</style>\n",
       "<table border=\"1\" class=\"dataframe\">\n",
       "  <thead>\n",
       "    <tr style=\"text-align: right;\">\n",
       "      <th></th>\n",
       "      <th>City</th>\n",
       "      <th>State</th>\n",
       "      <th>Lat</th>\n",
       "      <th>Long</th>\n",
       "      <th>Snowfall</th>\n",
       "      <th>Direction</th>\n",
       "    </tr>\n",
       "  </thead>\n",
       "  <tbody>\n",
       "    <tr>\n",
       "      <th>0</th>\n",
       "      <td>New Haven</td>\n",
       "      <td>CT</td>\n",
       "      <td>41.308</td>\n",
       "      <td>-72.926</td>\n",
       "      <td>34.2</td>\n",
       "      <td>S</td>\n",
       "    </tr>\n",
       "    <tr>\n",
       "      <th>1</th>\n",
       "      <td>Newport</td>\n",
       "      <td>RI</td>\n",
       "      <td>41.490</td>\n",
       "      <td>-71.312</td>\n",
       "      <td>25.3</td>\n",
       "      <td>S</td>\n",
       "    </tr>\n",
       "    <tr>\n",
       "      <th>2</th>\n",
       "      <td>New Bedford</td>\n",
       "      <td>MA</td>\n",
       "      <td>41.636</td>\n",
       "      <td>-70.932</td>\n",
       "      <td>26.1</td>\n",
       "      <td>S</td>\n",
       "    </tr>\n",
       "    <tr>\n",
       "      <th>3</th>\n",
       "      <td>Brattleboro</td>\n",
       "      <td>VT</td>\n",
       "      <td>42.850</td>\n",
       "      <td>-72.557</td>\n",
       "      <td>56.3</td>\n",
       "      <td>N</td>\n",
       "    </tr>\n",
       "    <tr>\n",
       "      <th>4</th>\n",
       "      <td>Nashua</td>\n",
       "      <td>NH</td>\n",
       "      <td>42.765</td>\n",
       "      <td>-71.466</td>\n",
       "      <td>51.1</td>\n",
       "      <td>N</td>\n",
       "    </tr>\n",
       "    <tr>\n",
       "      <th>5</th>\n",
       "      <td>Bangor</td>\n",
       "      <td>ME</td>\n",
       "      <td>44.801</td>\n",
       "      <td>-68.770</td>\n",
       "      <td>58.2</td>\n",
       "      <td>N</td>\n",
       "    </tr>\n",
       "  </tbody>\n",
       "</table>\n",
       "</div>"
      ],
      "text/plain": [
       "          City State     Lat    Long  Snowfall Direction\n",
       "0    New Haven    CT  41.308 -72.926      34.2         S\n",
       "1      Newport    RI  41.490 -71.312      25.3         S\n",
       "2  New Bedford    MA  41.636 -70.932      26.1         S\n",
       "3  Brattleboro    VT  42.850 -72.557      56.3         N\n",
       "4       Nashua    NH  42.765 -71.466      51.1         N\n",
       "5       Bangor    ME  44.801 -68.770      58.2         N"
      ]
     },
     "execution_count": 10,
     "metadata": {},
     "output_type": "execute_result"
    }
   ],
   "source": [
    "# A Pandas DataFrame (2-D)\n",
    "small"
   ]
  },
  {
   "cell_type": "code",
   "execution_count": 11,
   "id": "civilian-armstrong",
   "metadata": {},
   "outputs": [
    {
     "data": {
      "text/plain": [
       "pandas.core.frame.DataFrame"
      ]
     },
     "execution_count": 11,
     "metadata": {},
     "output_type": "execute_result"
    }
   ],
   "source": [
    "type(small)"
   ]
  },
  {
   "cell_type": "code",
   "execution_count": 12,
   "id": "expected-spray",
   "metadata": {},
   "outputs": [],
   "source": [
    "snowseries = small['Snowfall']\n",
    "snowseries2 = small.Snowfall"
   ]
  },
  {
   "cell_type": "code",
   "execution_count": 13,
   "id": "computational-specification",
   "metadata": {},
   "outputs": [
    {
     "data": {
      "text/plain": [
       "0    34.2\n",
       "1    25.3\n",
       "2    26.1\n",
       "3    56.3\n",
       "Name: Snowfall, dtype: float64"
      ]
     },
     "execution_count": 13,
     "metadata": {},
     "output_type": "execute_result"
    }
   ],
   "source": [
    "# To create a Pandas Series (1-D)\n",
    "snowseries[0:4]"
   ]
  },
  {
   "cell_type": "code",
   "execution_count": 14,
   "id": "described-opposition",
   "metadata": {},
   "outputs": [
    {
     "data": {
      "text/plain": [
       "0    34.2\n",
       "1    25.3\n",
       "2    26.1\n",
       "3    56.3\n",
       "4    51.1\n",
       "5    58.2\n",
       "Name: Snowfall, dtype: float64"
      ]
     },
     "execution_count": 14,
     "metadata": {},
     "output_type": "execute_result"
    }
   ],
   "source": [
    "snowseries2"
   ]
  },
  {
   "cell_type": "code",
   "execution_count": 15,
   "id": "reduced-paradise",
   "metadata": {},
   "outputs": [
    {
     "name": "stdout",
     "output_type": "stream",
     "text": [
      "<class 'pandas.core.frame.DataFrame'>\n",
      "RangeIndex: 6 entries, 0 to 5\n",
      "Data columns (total 6 columns):\n",
      " #   Column     Non-Null Count  Dtype  \n",
      "---  ------     --------------  -----  \n",
      " 0   City       6 non-null      object \n",
      " 1   State      6 non-null      object \n",
      " 2   Lat        6 non-null      float64\n",
      " 3   Long       6 non-null      float64\n",
      " 4   Snowfall   6 non-null      float64\n",
      " 5   Direction  6 non-null      object \n",
      "dtypes: float64(3), object(3)\n",
      "memory usage: 416.0+ bytes\n"
     ]
    }
   ],
   "source": [
    "small.info()"
   ]
  },
  {
   "cell_type": "code",
   "execution_count": 16,
   "id": "unique-hungary",
   "metadata": {},
   "outputs": [],
   "source": [
    "#lat = 42 30' 00\" (degrees = 0-90, minutes = 0-59, seconds = 0-59)"
   ]
  },
  {
   "cell_type": "code",
   "execution_count": 17,
   "id": "minute-license",
   "metadata": {},
   "outputs": [
    {
     "data": {
      "text/plain": [
       "(6, 6)"
      ]
     },
     "execution_count": 17,
     "metadata": {},
     "output_type": "execute_result"
    }
   ],
   "source": [
    "small.shape"
   ]
  },
  {
   "cell_type": "code",
   "execution_count": 18,
   "id": "fewer-timber",
   "metadata": {},
   "outputs": [
    {
     "data": {
      "text/plain": [
       "Index(['City', 'State', 'Lat', 'Long', 'Snowfall', 'Direction'], dtype='object')"
      ]
     },
     "execution_count": 18,
     "metadata": {},
     "output_type": "execute_result"
    }
   ],
   "source": [
    "small.columns"
   ]
  },
  {
   "cell_type": "code",
   "execution_count": 19,
   "id": "widespread-helicopter",
   "metadata": {},
   "outputs": [],
   "source": [
    "cols = ['City','State','Direction']\n",
    "df2 = small[cols]"
   ]
  },
  {
   "cell_type": "code",
   "execution_count": 20,
   "id": "pursuant-camera",
   "metadata": {},
   "outputs": [
    {
     "data": {
      "text/html": [
       "<div>\n",
       "<style scoped>\n",
       "    .dataframe tbody tr th:only-of-type {\n",
       "        vertical-align: middle;\n",
       "    }\n",
       "\n",
       "    .dataframe tbody tr th {\n",
       "        vertical-align: top;\n",
       "    }\n",
       "\n",
       "    .dataframe thead th {\n",
       "        text-align: right;\n",
       "    }\n",
       "</style>\n",
       "<table border=\"1\" class=\"dataframe\">\n",
       "  <thead>\n",
       "    <tr style=\"text-align: right;\">\n",
       "      <th></th>\n",
       "      <th>City</th>\n",
       "      <th>State</th>\n",
       "      <th>Direction</th>\n",
       "    </tr>\n",
       "  </thead>\n",
       "  <tbody>\n",
       "    <tr>\n",
       "      <th>0</th>\n",
       "      <td>New Haven</td>\n",
       "      <td>CT</td>\n",
       "      <td>S</td>\n",
       "    </tr>\n",
       "    <tr>\n",
       "      <th>1</th>\n",
       "      <td>Newport</td>\n",
       "      <td>RI</td>\n",
       "      <td>S</td>\n",
       "    </tr>\n",
       "    <tr>\n",
       "      <th>2</th>\n",
       "      <td>New Bedford</td>\n",
       "      <td>MA</td>\n",
       "      <td>S</td>\n",
       "    </tr>\n",
       "    <tr>\n",
       "      <th>3</th>\n",
       "      <td>Brattleboro</td>\n",
       "      <td>VT</td>\n",
       "      <td>N</td>\n",
       "    </tr>\n",
       "    <tr>\n",
       "      <th>4</th>\n",
       "      <td>Nashua</td>\n",
       "      <td>NH</td>\n",
       "      <td>N</td>\n",
       "    </tr>\n",
       "    <tr>\n",
       "      <th>5</th>\n",
       "      <td>Bangor</td>\n",
       "      <td>ME</td>\n",
       "      <td>N</td>\n",
       "    </tr>\n",
       "  </tbody>\n",
       "</table>\n",
       "</div>"
      ],
      "text/plain": [
       "          City State Direction\n",
       "0    New Haven    CT         S\n",
       "1      Newport    RI         S\n",
       "2  New Bedford    MA         S\n",
       "3  Brattleboro    VT         N\n",
       "4       Nashua    NH         N\n",
       "5       Bangor    ME         N"
      ]
     },
     "execution_count": 20,
     "metadata": {},
     "output_type": "execute_result"
    }
   ],
   "source": [
    "df2"
   ]
  },
  {
   "cell_type": "code",
   "execution_count": 21,
   "id": "polyphonic-fundamental",
   "metadata": {},
   "outputs": [
    {
     "data": {
      "text/html": [
       "<div>\n",
       "<style scoped>\n",
       "    .dataframe tbody tr th:only-of-type {\n",
       "        vertical-align: middle;\n",
       "    }\n",
       "\n",
       "    .dataframe tbody tr th {\n",
       "        vertical-align: top;\n",
       "    }\n",
       "\n",
       "    .dataframe thead th {\n",
       "        text-align: right;\n",
       "    }\n",
       "</style>\n",
       "<table border=\"1\" class=\"dataframe\">\n",
       "  <thead>\n",
       "    <tr style=\"text-align: right;\">\n",
       "      <th></th>\n",
       "      <th>Lat</th>\n",
       "      <th>Long</th>\n",
       "      <th>Snowfall</th>\n",
       "    </tr>\n",
       "  </thead>\n",
       "  <tbody>\n",
       "    <tr>\n",
       "      <th>count</th>\n",
       "      <td>6.000000</td>\n",
       "      <td>6.000000</td>\n",
       "      <td>6.000000</td>\n",
       "    </tr>\n",
       "    <tr>\n",
       "      <th>mean</th>\n",
       "      <td>42.475000</td>\n",
       "      <td>-71.327167</td>\n",
       "      <td>41.866667</td>\n",
       "    </tr>\n",
       "    <tr>\n",
       "      <th>std</th>\n",
       "      <td>1.316893</td>\n",
       "      <td>1.468572</td>\n",
       "      <td>15.114055</td>\n",
       "    </tr>\n",
       "    <tr>\n",
       "      <th>min</th>\n",
       "      <td>41.308000</td>\n",
       "      <td>-72.926000</td>\n",
       "      <td>25.300000</td>\n",
       "    </tr>\n",
       "    <tr>\n",
       "      <th>25%</th>\n",
       "      <td>41.526500</td>\n",
       "      <td>-72.284250</td>\n",
       "      <td>28.125000</td>\n",
       "    </tr>\n",
       "    <tr>\n",
       "      <th>50%</th>\n",
       "      <td>42.200500</td>\n",
       "      <td>-71.389000</td>\n",
       "      <td>42.650000</td>\n",
       "    </tr>\n",
       "    <tr>\n",
       "      <th>75%</th>\n",
       "      <td>42.828750</td>\n",
       "      <td>-71.027000</td>\n",
       "      <td>55.000000</td>\n",
       "    </tr>\n",
       "    <tr>\n",
       "      <th>max</th>\n",
       "      <td>44.801000</td>\n",
       "      <td>-68.770000</td>\n",
       "      <td>58.200000</td>\n",
       "    </tr>\n",
       "  </tbody>\n",
       "</table>\n",
       "</div>"
      ],
      "text/plain": [
       "             Lat       Long   Snowfall\n",
       "count   6.000000   6.000000   6.000000\n",
       "mean   42.475000 -71.327167  41.866667\n",
       "std     1.316893   1.468572  15.114055\n",
       "min    41.308000 -72.926000  25.300000\n",
       "25%    41.526500 -72.284250  28.125000\n",
       "50%    42.200500 -71.389000  42.650000\n",
       "75%    42.828750 -71.027000  55.000000\n",
       "max    44.801000 -68.770000  58.200000"
      ]
     },
     "execution_count": 21,
     "metadata": {},
     "output_type": "execute_result"
    }
   ],
   "source": [
    "small.describe()"
   ]
  },
  {
   "cell_type": "code",
   "execution_count": 22,
   "id": "binding-trade",
   "metadata": {},
   "outputs": [
    {
     "data": {
      "text/html": [
       "<div>\n",
       "<style scoped>\n",
       "    .dataframe tbody tr th:only-of-type {\n",
       "        vertical-align: middle;\n",
       "    }\n",
       "\n",
       "    .dataframe tbody tr th {\n",
       "        vertical-align: top;\n",
       "    }\n",
       "\n",
       "    .dataframe thead th {\n",
       "        text-align: right;\n",
       "    }\n",
       "</style>\n",
       "<table border=\"1\" class=\"dataframe\">\n",
       "  <thead>\n",
       "    <tr style=\"text-align: right;\">\n",
       "      <th></th>\n",
       "      <th>City</th>\n",
       "      <th>State</th>\n",
       "      <th>Lat</th>\n",
       "      <th>Long</th>\n",
       "      <th>Snowfall</th>\n",
       "      <th>Direction</th>\n",
       "    </tr>\n",
       "  </thead>\n",
       "  <tbody>\n",
       "    <tr>\n",
       "      <th>0</th>\n",
       "      <td>Burlington</td>\n",
       "      <td>VT</td>\n",
       "      <td>44.4683</td>\n",
       "      <td>-73.1499</td>\n",
       "      <td>81.2</td>\n",
       "      <td>N</td>\n",
       "    </tr>\n",
       "    <tr>\n",
       "      <th>1</th>\n",
       "      <td>Portland</td>\n",
       "      <td>ME</td>\n",
       "      <td>43.6497</td>\n",
       "      <td>-70.3002</td>\n",
       "      <td>61.9</td>\n",
       "      <td>N</td>\n",
       "    </tr>\n",
       "    <tr>\n",
       "      <th>2</th>\n",
       "      <td>Concord</td>\n",
       "      <td>NH</td>\n",
       "      <td>42.2015</td>\n",
       "      <td>-71.5002</td>\n",
       "      <td>61.4</td>\n",
       "      <td>N</td>\n",
       "    </tr>\n",
       "    <tr>\n",
       "      <th>3</th>\n",
       "      <td>Boston</td>\n",
       "      <td>MA</td>\n",
       "      <td>42.3606</td>\n",
       "      <td>-71.0097</td>\n",
       "      <td>43.8</td>\n",
       "      <td>S</td>\n",
       "    </tr>\n",
       "    <tr>\n",
       "      <th>4</th>\n",
       "      <td>Worcester</td>\n",
       "      <td>MA</td>\n",
       "      <td>42.2706</td>\n",
       "      <td>-71.8731</td>\n",
       "      <td>64.1</td>\n",
       "      <td>S</td>\n",
       "    </tr>\n",
       "    <tr>\n",
       "      <th>5</th>\n",
       "      <td>Hartford</td>\n",
       "      <td>CT</td>\n",
       "      <td>41.9375</td>\n",
       "      <td>-72.6819</td>\n",
       "      <td>40.5</td>\n",
       "      <td>S</td>\n",
       "    </tr>\n",
       "    <tr>\n",
       "      <th>6</th>\n",
       "      <td>Providence</td>\n",
       "      <td>RI</td>\n",
       "      <td>41.7225</td>\n",
       "      <td>-71.4325</td>\n",
       "      <td>33.8</td>\n",
       "      <td>S</td>\n",
       "    </tr>\n",
       "  </tbody>\n",
       "</table>\n",
       "</div>"
      ],
      "text/plain": [
       "         City State      Lat     Long  Snowfall Direction\n",
       "0  Burlington    VT  44.4683 -73.1499      81.2         N\n",
       "1    Portland    ME  43.6497 -70.3002      61.9         N\n",
       "2     Concord    NH  42.2015 -71.5002      61.4         N\n",
       "3      Boston    MA  42.3606 -71.0097      43.8         S\n",
       "4   Worcester    MA  42.2706 -71.8731      64.1         S\n",
       "5    Hartford    CT  41.9375 -72.6819      40.5         S\n",
       "6  Providence    RI  41.7225 -71.4325      33.8         S"
      ]
     },
     "execution_count": 22,
     "metadata": {},
     "output_type": "execute_result"
    }
   ],
   "source": [
    "large"
   ]
  },
  {
   "cell_type": "code",
   "execution_count": 23,
   "id": "metropolitan-hammer",
   "metadata": {},
   "outputs": [
    {
     "data": {
      "text/html": [
       "<div>\n",
       "<style scoped>\n",
       "    .dataframe tbody tr th:only-of-type {\n",
       "        vertical-align: middle;\n",
       "    }\n",
       "\n",
       "    .dataframe tbody tr th {\n",
       "        vertical-align: top;\n",
       "    }\n",
       "\n",
       "    .dataframe thead th {\n",
       "        text-align: right;\n",
       "    }\n",
       "</style>\n",
       "<table border=\"1\" class=\"dataframe\">\n",
       "  <thead>\n",
       "    <tr style=\"text-align: right;\">\n",
       "      <th></th>\n",
       "      <th>City</th>\n",
       "      <th>State</th>\n",
       "      <th>Lat</th>\n",
       "      <th>Long</th>\n",
       "      <th>Snowfall</th>\n",
       "      <th>Direction</th>\n",
       "    </tr>\n",
       "  </thead>\n",
       "  <tbody>\n",
       "    <tr>\n",
       "      <th>0</th>\n",
       "      <td>New Haven</td>\n",
       "      <td>CT</td>\n",
       "      <td>41.308</td>\n",
       "      <td>-72.926</td>\n",
       "      <td>34.2</td>\n",
       "      <td>S</td>\n",
       "    </tr>\n",
       "    <tr>\n",
       "      <th>1</th>\n",
       "      <td>Newport</td>\n",
       "      <td>RI</td>\n",
       "      <td>41.490</td>\n",
       "      <td>-71.312</td>\n",
       "      <td>25.3</td>\n",
       "      <td>S</td>\n",
       "    </tr>\n",
       "    <tr>\n",
       "      <th>2</th>\n",
       "      <td>New Bedford</td>\n",
       "      <td>MA</td>\n",
       "      <td>41.636</td>\n",
       "      <td>-70.932</td>\n",
       "      <td>26.1</td>\n",
       "      <td>S</td>\n",
       "    </tr>\n",
       "    <tr>\n",
       "      <th>3</th>\n",
       "      <td>Brattleboro</td>\n",
       "      <td>VT</td>\n",
       "      <td>42.850</td>\n",
       "      <td>-72.557</td>\n",
       "      <td>56.3</td>\n",
       "      <td>N</td>\n",
       "    </tr>\n",
       "    <tr>\n",
       "      <th>4</th>\n",
       "      <td>Nashua</td>\n",
       "      <td>NH</td>\n",
       "      <td>42.765</td>\n",
       "      <td>-71.466</td>\n",
       "      <td>51.1</td>\n",
       "      <td>N</td>\n",
       "    </tr>\n",
       "    <tr>\n",
       "      <th>5</th>\n",
       "      <td>Bangor</td>\n",
       "      <td>ME</td>\n",
       "      <td>44.801</td>\n",
       "      <td>-68.770</td>\n",
       "      <td>58.2</td>\n",
       "      <td>N</td>\n",
       "    </tr>\n",
       "  </tbody>\n",
       "</table>\n",
       "</div>"
      ],
      "text/plain": [
       "          City State     Lat    Long  Snowfall Direction\n",
       "0    New Haven    CT  41.308 -72.926      34.2         S\n",
       "1      Newport    RI  41.490 -71.312      25.3         S\n",
       "2  New Bedford    MA  41.636 -70.932      26.1         S\n",
       "3  Brattleboro    VT  42.850 -72.557      56.3         N\n",
       "4       Nashua    NH  42.765 -71.466      51.1         N\n",
       "5       Bangor    ME  44.801 -68.770      58.2         N"
      ]
     },
     "execution_count": 23,
     "metadata": {},
     "output_type": "execute_result"
    }
   ],
   "source": [
    "small"
   ]
  },
  {
   "cell_type": "code",
   "execution_count": 24,
   "id": "retired-shape",
   "metadata": {},
   "outputs": [],
   "source": [
    "alldata = pd.concat([large, small], axis=0, join='inner')"
   ]
  },
  {
   "cell_type": "code",
   "execution_count": 25,
   "id": "liable-syndrome",
   "metadata": {},
   "outputs": [
    {
     "data": {
      "text/html": [
       "<div>\n",
       "<style scoped>\n",
       "    .dataframe tbody tr th:only-of-type {\n",
       "        vertical-align: middle;\n",
       "    }\n",
       "\n",
       "    .dataframe tbody tr th {\n",
       "        vertical-align: top;\n",
       "    }\n",
       "\n",
       "    .dataframe thead th {\n",
       "        text-align: right;\n",
       "    }\n",
       "</style>\n",
       "<table border=\"1\" class=\"dataframe\">\n",
       "  <thead>\n",
       "    <tr style=\"text-align: right;\">\n",
       "      <th></th>\n",
       "      <th>City</th>\n",
       "      <th>State</th>\n",
       "      <th>Lat</th>\n",
       "      <th>Long</th>\n",
       "      <th>Snowfall</th>\n",
       "      <th>Direction</th>\n",
       "    </tr>\n",
       "  </thead>\n",
       "  <tbody>\n",
       "    <tr>\n",
       "      <th>0</th>\n",
       "      <td>Burlington</td>\n",
       "      <td>VT</td>\n",
       "      <td>44.4683</td>\n",
       "      <td>-73.1499</td>\n",
       "      <td>81.2</td>\n",
       "      <td>N</td>\n",
       "    </tr>\n",
       "    <tr>\n",
       "      <th>1</th>\n",
       "      <td>Portland</td>\n",
       "      <td>ME</td>\n",
       "      <td>43.6497</td>\n",
       "      <td>-70.3002</td>\n",
       "      <td>61.9</td>\n",
       "      <td>N</td>\n",
       "    </tr>\n",
       "    <tr>\n",
       "      <th>2</th>\n",
       "      <td>Concord</td>\n",
       "      <td>NH</td>\n",
       "      <td>42.2015</td>\n",
       "      <td>-71.5002</td>\n",
       "      <td>61.4</td>\n",
       "      <td>N</td>\n",
       "    </tr>\n",
       "    <tr>\n",
       "      <th>3</th>\n",
       "      <td>Boston</td>\n",
       "      <td>MA</td>\n",
       "      <td>42.3606</td>\n",
       "      <td>-71.0097</td>\n",
       "      <td>43.8</td>\n",
       "      <td>S</td>\n",
       "    </tr>\n",
       "    <tr>\n",
       "      <th>4</th>\n",
       "      <td>Worcester</td>\n",
       "      <td>MA</td>\n",
       "      <td>42.2706</td>\n",
       "      <td>-71.8731</td>\n",
       "      <td>64.1</td>\n",
       "      <td>S</td>\n",
       "    </tr>\n",
       "    <tr>\n",
       "      <th>5</th>\n",
       "      <td>Hartford</td>\n",
       "      <td>CT</td>\n",
       "      <td>41.9375</td>\n",
       "      <td>-72.6819</td>\n",
       "      <td>40.5</td>\n",
       "      <td>S</td>\n",
       "    </tr>\n",
       "    <tr>\n",
       "      <th>6</th>\n",
       "      <td>Providence</td>\n",
       "      <td>RI</td>\n",
       "      <td>41.7225</td>\n",
       "      <td>-71.4325</td>\n",
       "      <td>33.8</td>\n",
       "      <td>S</td>\n",
       "    </tr>\n",
       "    <tr>\n",
       "      <th>0</th>\n",
       "      <td>New Haven</td>\n",
       "      <td>CT</td>\n",
       "      <td>41.3080</td>\n",
       "      <td>-72.9260</td>\n",
       "      <td>34.2</td>\n",
       "      <td>S</td>\n",
       "    </tr>\n",
       "    <tr>\n",
       "      <th>1</th>\n",
       "      <td>Newport</td>\n",
       "      <td>RI</td>\n",
       "      <td>41.4900</td>\n",
       "      <td>-71.3120</td>\n",
       "      <td>25.3</td>\n",
       "      <td>S</td>\n",
       "    </tr>\n",
       "    <tr>\n",
       "      <th>2</th>\n",
       "      <td>New Bedford</td>\n",
       "      <td>MA</td>\n",
       "      <td>41.6360</td>\n",
       "      <td>-70.9320</td>\n",
       "      <td>26.1</td>\n",
       "      <td>S</td>\n",
       "    </tr>\n",
       "    <tr>\n",
       "      <th>3</th>\n",
       "      <td>Brattleboro</td>\n",
       "      <td>VT</td>\n",
       "      <td>42.8500</td>\n",
       "      <td>-72.5570</td>\n",
       "      <td>56.3</td>\n",
       "      <td>N</td>\n",
       "    </tr>\n",
       "    <tr>\n",
       "      <th>4</th>\n",
       "      <td>Nashua</td>\n",
       "      <td>NH</td>\n",
       "      <td>42.7650</td>\n",
       "      <td>-71.4660</td>\n",
       "      <td>51.1</td>\n",
       "      <td>N</td>\n",
       "    </tr>\n",
       "    <tr>\n",
       "      <th>5</th>\n",
       "      <td>Bangor</td>\n",
       "      <td>ME</td>\n",
       "      <td>44.8010</td>\n",
       "      <td>-68.7700</td>\n",
       "      <td>58.2</td>\n",
       "      <td>N</td>\n",
       "    </tr>\n",
       "  </tbody>\n",
       "</table>\n",
       "</div>"
      ],
      "text/plain": [
       "          City State      Lat     Long  Snowfall Direction\n",
       "0   Burlington    VT  44.4683 -73.1499      81.2         N\n",
       "1     Portland    ME  43.6497 -70.3002      61.9         N\n",
       "2      Concord    NH  42.2015 -71.5002      61.4         N\n",
       "3       Boston    MA  42.3606 -71.0097      43.8         S\n",
       "4    Worcester    MA  42.2706 -71.8731      64.1         S\n",
       "5     Hartford    CT  41.9375 -72.6819      40.5         S\n",
       "6   Providence    RI  41.7225 -71.4325      33.8         S\n",
       "0    New Haven    CT  41.3080 -72.9260      34.2         S\n",
       "1      Newport    RI  41.4900 -71.3120      25.3         S\n",
       "2  New Bedford    MA  41.6360 -70.9320      26.1         S\n",
       "3  Brattleboro    VT  42.8500 -72.5570      56.3         N\n",
       "4       Nashua    NH  42.7650 -71.4660      51.1         N\n",
       "5       Bangor    ME  44.8010 -68.7700      58.2         N"
      ]
     },
     "execution_count": 25,
     "metadata": {},
     "output_type": "execute_result"
    }
   ],
   "source": [
    "alldata"
   ]
  },
  {
   "cell_type": "code",
   "execution_count": 26,
   "id": "private-london",
   "metadata": {},
   "outputs": [],
   "source": [
    "alldata = alldata.reset_index()"
   ]
  },
  {
   "cell_type": "code",
   "execution_count": 27,
   "id": "awful-pottery",
   "metadata": {},
   "outputs": [],
   "source": [
    "alldata = alldata.drop(['index'], axis=1)"
   ]
  },
  {
   "cell_type": "code",
   "execution_count": 28,
   "id": "lightweight-blood",
   "metadata": {
    "scrolled": false
   },
   "outputs": [
    {
     "data": {
      "text/html": [
       "<div>\n",
       "<style scoped>\n",
       "    .dataframe tbody tr th:only-of-type {\n",
       "        vertical-align: middle;\n",
       "    }\n",
       "\n",
       "    .dataframe tbody tr th {\n",
       "        vertical-align: top;\n",
       "    }\n",
       "\n",
       "    .dataframe thead th {\n",
       "        text-align: right;\n",
       "    }\n",
       "</style>\n",
       "<table border=\"1\" class=\"dataframe\">\n",
       "  <thead>\n",
       "    <tr style=\"text-align: right;\">\n",
       "      <th></th>\n",
       "      <th>City</th>\n",
       "      <th>State</th>\n",
       "      <th>Lat</th>\n",
       "      <th>Long</th>\n",
       "      <th>Snowfall</th>\n",
       "      <th>Direction</th>\n",
       "    </tr>\n",
       "  </thead>\n",
       "  <tbody>\n",
       "    <tr>\n",
       "      <th>0</th>\n",
       "      <td>Burlington</td>\n",
       "      <td>VT</td>\n",
       "      <td>44.4683</td>\n",
       "      <td>-73.1499</td>\n",
       "      <td>81.2</td>\n",
       "      <td>N</td>\n",
       "    </tr>\n",
       "    <tr>\n",
       "      <th>1</th>\n",
       "      <td>Portland</td>\n",
       "      <td>ME</td>\n",
       "      <td>43.6497</td>\n",
       "      <td>-70.3002</td>\n",
       "      <td>61.9</td>\n",
       "      <td>N</td>\n",
       "    </tr>\n",
       "    <tr>\n",
       "      <th>2</th>\n",
       "      <td>Concord</td>\n",
       "      <td>NH</td>\n",
       "      <td>42.2015</td>\n",
       "      <td>-71.5002</td>\n",
       "      <td>61.4</td>\n",
       "      <td>N</td>\n",
       "    </tr>\n",
       "    <tr>\n",
       "      <th>3</th>\n",
       "      <td>Boston</td>\n",
       "      <td>MA</td>\n",
       "      <td>42.3606</td>\n",
       "      <td>-71.0097</td>\n",
       "      <td>43.8</td>\n",
       "      <td>S</td>\n",
       "    </tr>\n",
       "    <tr>\n",
       "      <th>4</th>\n",
       "      <td>Worcester</td>\n",
       "      <td>MA</td>\n",
       "      <td>42.2706</td>\n",
       "      <td>-71.8731</td>\n",
       "      <td>64.1</td>\n",
       "      <td>S</td>\n",
       "    </tr>\n",
       "    <tr>\n",
       "      <th>5</th>\n",
       "      <td>Hartford</td>\n",
       "      <td>CT</td>\n",
       "      <td>41.9375</td>\n",
       "      <td>-72.6819</td>\n",
       "      <td>40.5</td>\n",
       "      <td>S</td>\n",
       "    </tr>\n",
       "    <tr>\n",
       "      <th>6</th>\n",
       "      <td>Providence</td>\n",
       "      <td>RI</td>\n",
       "      <td>41.7225</td>\n",
       "      <td>-71.4325</td>\n",
       "      <td>33.8</td>\n",
       "      <td>S</td>\n",
       "    </tr>\n",
       "    <tr>\n",
       "      <th>7</th>\n",
       "      <td>New Haven</td>\n",
       "      <td>CT</td>\n",
       "      <td>41.3080</td>\n",
       "      <td>-72.9260</td>\n",
       "      <td>34.2</td>\n",
       "      <td>S</td>\n",
       "    </tr>\n",
       "    <tr>\n",
       "      <th>8</th>\n",
       "      <td>Newport</td>\n",
       "      <td>RI</td>\n",
       "      <td>41.4900</td>\n",
       "      <td>-71.3120</td>\n",
       "      <td>25.3</td>\n",
       "      <td>S</td>\n",
       "    </tr>\n",
       "    <tr>\n",
       "      <th>9</th>\n",
       "      <td>New Bedford</td>\n",
       "      <td>MA</td>\n",
       "      <td>41.6360</td>\n",
       "      <td>-70.9320</td>\n",
       "      <td>26.1</td>\n",
       "      <td>S</td>\n",
       "    </tr>\n",
       "    <tr>\n",
       "      <th>10</th>\n",
       "      <td>Brattleboro</td>\n",
       "      <td>VT</td>\n",
       "      <td>42.8500</td>\n",
       "      <td>-72.5570</td>\n",
       "      <td>56.3</td>\n",
       "      <td>N</td>\n",
       "    </tr>\n",
       "    <tr>\n",
       "      <th>11</th>\n",
       "      <td>Nashua</td>\n",
       "      <td>NH</td>\n",
       "      <td>42.7650</td>\n",
       "      <td>-71.4660</td>\n",
       "      <td>51.1</td>\n",
       "      <td>N</td>\n",
       "    </tr>\n",
       "    <tr>\n",
       "      <th>12</th>\n",
       "      <td>Bangor</td>\n",
       "      <td>ME</td>\n",
       "      <td>44.8010</td>\n",
       "      <td>-68.7700</td>\n",
       "      <td>58.2</td>\n",
       "      <td>N</td>\n",
       "    </tr>\n",
       "  </tbody>\n",
       "</table>\n",
       "</div>"
      ],
      "text/plain": [
       "           City State      Lat     Long  Snowfall Direction\n",
       "0    Burlington    VT  44.4683 -73.1499      81.2         N\n",
       "1      Portland    ME  43.6497 -70.3002      61.9         N\n",
       "2       Concord    NH  42.2015 -71.5002      61.4         N\n",
       "3        Boston    MA  42.3606 -71.0097      43.8         S\n",
       "4     Worcester    MA  42.2706 -71.8731      64.1         S\n",
       "5      Hartford    CT  41.9375 -72.6819      40.5         S\n",
       "6    Providence    RI  41.7225 -71.4325      33.8         S\n",
       "7     New Haven    CT  41.3080 -72.9260      34.2         S\n",
       "8       Newport    RI  41.4900 -71.3120      25.3         S\n",
       "9   New Bedford    MA  41.6360 -70.9320      26.1         S\n",
       "10  Brattleboro    VT  42.8500 -72.5570      56.3         N\n",
       "11       Nashua    NH  42.7650 -71.4660      51.1         N\n",
       "12       Bangor    ME  44.8010 -68.7700      58.2         N"
      ]
     },
     "execution_count": 28,
     "metadata": {},
     "output_type": "execute_result"
    }
   ],
   "source": [
    "alldata"
   ]
  },
  {
   "cell_type": "code",
   "execution_count": 29,
   "id": "infrared-orlando",
   "metadata": {},
   "outputs": [],
   "source": [
    "# Export dataframe to CSV\n",
    "alldata.to_csv('newenglandcity4.csv', index = False)"
   ]
  },
  {
   "cell_type": "code",
   "execution_count": 30,
   "id": "objective-citizen",
   "metadata": {},
   "outputs": [],
   "source": [
    "snowasc = alldata.sort_values('Snowfall', ascending = True)"
   ]
  },
  {
   "cell_type": "code",
   "execution_count": 31,
   "id": "supported-header",
   "metadata": {},
   "outputs": [
    {
     "data": {
      "text/html": [
       "<div>\n",
       "<style scoped>\n",
       "    .dataframe tbody tr th:only-of-type {\n",
       "        vertical-align: middle;\n",
       "    }\n",
       "\n",
       "    .dataframe tbody tr th {\n",
       "        vertical-align: top;\n",
       "    }\n",
       "\n",
       "    .dataframe thead th {\n",
       "        text-align: right;\n",
       "    }\n",
       "</style>\n",
       "<table border=\"1\" class=\"dataframe\">\n",
       "  <thead>\n",
       "    <tr style=\"text-align: right;\">\n",
       "      <th></th>\n",
       "      <th>City</th>\n",
       "      <th>State</th>\n",
       "      <th>Lat</th>\n",
       "      <th>Long</th>\n",
       "      <th>Snowfall</th>\n",
       "      <th>Direction</th>\n",
       "    </tr>\n",
       "  </thead>\n",
       "  <tbody>\n",
       "    <tr>\n",
       "      <th>8</th>\n",
       "      <td>Newport</td>\n",
       "      <td>RI</td>\n",
       "      <td>41.4900</td>\n",
       "      <td>-71.3120</td>\n",
       "      <td>25.3</td>\n",
       "      <td>S</td>\n",
       "    </tr>\n",
       "    <tr>\n",
       "      <th>9</th>\n",
       "      <td>New Bedford</td>\n",
       "      <td>MA</td>\n",
       "      <td>41.6360</td>\n",
       "      <td>-70.9320</td>\n",
       "      <td>26.1</td>\n",
       "      <td>S</td>\n",
       "    </tr>\n",
       "    <tr>\n",
       "      <th>6</th>\n",
       "      <td>Providence</td>\n",
       "      <td>RI</td>\n",
       "      <td>41.7225</td>\n",
       "      <td>-71.4325</td>\n",
       "      <td>33.8</td>\n",
       "      <td>S</td>\n",
       "    </tr>\n",
       "    <tr>\n",
       "      <th>7</th>\n",
       "      <td>New Haven</td>\n",
       "      <td>CT</td>\n",
       "      <td>41.3080</td>\n",
       "      <td>-72.9260</td>\n",
       "      <td>34.2</td>\n",
       "      <td>S</td>\n",
       "    </tr>\n",
       "    <tr>\n",
       "      <th>5</th>\n",
       "      <td>Hartford</td>\n",
       "      <td>CT</td>\n",
       "      <td>41.9375</td>\n",
       "      <td>-72.6819</td>\n",
       "      <td>40.5</td>\n",
       "      <td>S</td>\n",
       "    </tr>\n",
       "    <tr>\n",
       "      <th>3</th>\n",
       "      <td>Boston</td>\n",
       "      <td>MA</td>\n",
       "      <td>42.3606</td>\n",
       "      <td>-71.0097</td>\n",
       "      <td>43.8</td>\n",
       "      <td>S</td>\n",
       "    </tr>\n",
       "    <tr>\n",
       "      <th>11</th>\n",
       "      <td>Nashua</td>\n",
       "      <td>NH</td>\n",
       "      <td>42.7650</td>\n",
       "      <td>-71.4660</td>\n",
       "      <td>51.1</td>\n",
       "      <td>N</td>\n",
       "    </tr>\n",
       "    <tr>\n",
       "      <th>10</th>\n",
       "      <td>Brattleboro</td>\n",
       "      <td>VT</td>\n",
       "      <td>42.8500</td>\n",
       "      <td>-72.5570</td>\n",
       "      <td>56.3</td>\n",
       "      <td>N</td>\n",
       "    </tr>\n",
       "    <tr>\n",
       "      <th>12</th>\n",
       "      <td>Bangor</td>\n",
       "      <td>ME</td>\n",
       "      <td>44.8010</td>\n",
       "      <td>-68.7700</td>\n",
       "      <td>58.2</td>\n",
       "      <td>N</td>\n",
       "    </tr>\n",
       "    <tr>\n",
       "      <th>2</th>\n",
       "      <td>Concord</td>\n",
       "      <td>NH</td>\n",
       "      <td>42.2015</td>\n",
       "      <td>-71.5002</td>\n",
       "      <td>61.4</td>\n",
       "      <td>N</td>\n",
       "    </tr>\n",
       "    <tr>\n",
       "      <th>1</th>\n",
       "      <td>Portland</td>\n",
       "      <td>ME</td>\n",
       "      <td>43.6497</td>\n",
       "      <td>-70.3002</td>\n",
       "      <td>61.9</td>\n",
       "      <td>N</td>\n",
       "    </tr>\n",
       "    <tr>\n",
       "      <th>4</th>\n",
       "      <td>Worcester</td>\n",
       "      <td>MA</td>\n",
       "      <td>42.2706</td>\n",
       "      <td>-71.8731</td>\n",
       "      <td>64.1</td>\n",
       "      <td>S</td>\n",
       "    </tr>\n",
       "    <tr>\n",
       "      <th>0</th>\n",
       "      <td>Burlington</td>\n",
       "      <td>VT</td>\n",
       "      <td>44.4683</td>\n",
       "      <td>-73.1499</td>\n",
       "      <td>81.2</td>\n",
       "      <td>N</td>\n",
       "    </tr>\n",
       "  </tbody>\n",
       "</table>\n",
       "</div>"
      ],
      "text/plain": [
       "           City State      Lat     Long  Snowfall Direction\n",
       "8       Newport    RI  41.4900 -71.3120      25.3         S\n",
       "9   New Bedford    MA  41.6360 -70.9320      26.1         S\n",
       "6    Providence    RI  41.7225 -71.4325      33.8         S\n",
       "7     New Haven    CT  41.3080 -72.9260      34.2         S\n",
       "5      Hartford    CT  41.9375 -72.6819      40.5         S\n",
       "3        Boston    MA  42.3606 -71.0097      43.8         S\n",
       "11       Nashua    NH  42.7650 -71.4660      51.1         N\n",
       "10  Brattleboro    VT  42.8500 -72.5570      56.3         N\n",
       "12       Bangor    ME  44.8010 -68.7700      58.2         N\n",
       "2       Concord    NH  42.2015 -71.5002      61.4         N\n",
       "1      Portland    ME  43.6497 -70.3002      61.9         N\n",
       "4     Worcester    MA  42.2706 -71.8731      64.1         S\n",
       "0    Burlington    VT  44.4683 -73.1499      81.2         N"
      ]
     },
     "execution_count": 31,
     "metadata": {},
     "output_type": "execute_result"
    }
   ],
   "source": [
    "snowasc"
   ]
  },
  {
   "cell_type": "code",
   "execution_count": 32,
   "id": "distributed-ready",
   "metadata": {},
   "outputs": [],
   "source": [
    "snowdsc = alldata.sort_values('Snowfall', ascending = False)"
   ]
  },
  {
   "cell_type": "code",
   "execution_count": 33,
   "id": "working-chile",
   "metadata": {},
   "outputs": [
    {
     "data": {
      "text/html": [
       "<div>\n",
       "<style scoped>\n",
       "    .dataframe tbody tr th:only-of-type {\n",
       "        vertical-align: middle;\n",
       "    }\n",
       "\n",
       "    .dataframe tbody tr th {\n",
       "        vertical-align: top;\n",
       "    }\n",
       "\n",
       "    .dataframe thead th {\n",
       "        text-align: right;\n",
       "    }\n",
       "</style>\n",
       "<table border=\"1\" class=\"dataframe\">\n",
       "  <thead>\n",
       "    <tr style=\"text-align: right;\">\n",
       "      <th></th>\n",
       "      <th>City</th>\n",
       "      <th>State</th>\n",
       "      <th>Lat</th>\n",
       "      <th>Long</th>\n",
       "      <th>Snowfall</th>\n",
       "      <th>Direction</th>\n",
       "    </tr>\n",
       "  </thead>\n",
       "  <tbody>\n",
       "    <tr>\n",
       "      <th>0</th>\n",
       "      <td>Burlington</td>\n",
       "      <td>VT</td>\n",
       "      <td>44.4683</td>\n",
       "      <td>-73.1499</td>\n",
       "      <td>81.2</td>\n",
       "      <td>N</td>\n",
       "    </tr>\n",
       "    <tr>\n",
       "      <th>4</th>\n",
       "      <td>Worcester</td>\n",
       "      <td>MA</td>\n",
       "      <td>42.2706</td>\n",
       "      <td>-71.8731</td>\n",
       "      <td>64.1</td>\n",
       "      <td>S</td>\n",
       "    </tr>\n",
       "    <tr>\n",
       "      <th>1</th>\n",
       "      <td>Portland</td>\n",
       "      <td>ME</td>\n",
       "      <td>43.6497</td>\n",
       "      <td>-70.3002</td>\n",
       "      <td>61.9</td>\n",
       "      <td>N</td>\n",
       "    </tr>\n",
       "    <tr>\n",
       "      <th>2</th>\n",
       "      <td>Concord</td>\n",
       "      <td>NH</td>\n",
       "      <td>42.2015</td>\n",
       "      <td>-71.5002</td>\n",
       "      <td>61.4</td>\n",
       "      <td>N</td>\n",
       "    </tr>\n",
       "    <tr>\n",
       "      <th>12</th>\n",
       "      <td>Bangor</td>\n",
       "      <td>ME</td>\n",
       "      <td>44.8010</td>\n",
       "      <td>-68.7700</td>\n",
       "      <td>58.2</td>\n",
       "      <td>N</td>\n",
       "    </tr>\n",
       "    <tr>\n",
       "      <th>10</th>\n",
       "      <td>Brattleboro</td>\n",
       "      <td>VT</td>\n",
       "      <td>42.8500</td>\n",
       "      <td>-72.5570</td>\n",
       "      <td>56.3</td>\n",
       "      <td>N</td>\n",
       "    </tr>\n",
       "    <tr>\n",
       "      <th>11</th>\n",
       "      <td>Nashua</td>\n",
       "      <td>NH</td>\n",
       "      <td>42.7650</td>\n",
       "      <td>-71.4660</td>\n",
       "      <td>51.1</td>\n",
       "      <td>N</td>\n",
       "    </tr>\n",
       "    <tr>\n",
       "      <th>3</th>\n",
       "      <td>Boston</td>\n",
       "      <td>MA</td>\n",
       "      <td>42.3606</td>\n",
       "      <td>-71.0097</td>\n",
       "      <td>43.8</td>\n",
       "      <td>S</td>\n",
       "    </tr>\n",
       "    <tr>\n",
       "      <th>5</th>\n",
       "      <td>Hartford</td>\n",
       "      <td>CT</td>\n",
       "      <td>41.9375</td>\n",
       "      <td>-72.6819</td>\n",
       "      <td>40.5</td>\n",
       "      <td>S</td>\n",
       "    </tr>\n",
       "    <tr>\n",
       "      <th>7</th>\n",
       "      <td>New Haven</td>\n",
       "      <td>CT</td>\n",
       "      <td>41.3080</td>\n",
       "      <td>-72.9260</td>\n",
       "      <td>34.2</td>\n",
       "      <td>S</td>\n",
       "    </tr>\n",
       "    <tr>\n",
       "      <th>6</th>\n",
       "      <td>Providence</td>\n",
       "      <td>RI</td>\n",
       "      <td>41.7225</td>\n",
       "      <td>-71.4325</td>\n",
       "      <td>33.8</td>\n",
       "      <td>S</td>\n",
       "    </tr>\n",
       "    <tr>\n",
       "      <th>9</th>\n",
       "      <td>New Bedford</td>\n",
       "      <td>MA</td>\n",
       "      <td>41.6360</td>\n",
       "      <td>-70.9320</td>\n",
       "      <td>26.1</td>\n",
       "      <td>S</td>\n",
       "    </tr>\n",
       "    <tr>\n",
       "      <th>8</th>\n",
       "      <td>Newport</td>\n",
       "      <td>RI</td>\n",
       "      <td>41.4900</td>\n",
       "      <td>-71.3120</td>\n",
       "      <td>25.3</td>\n",
       "      <td>S</td>\n",
       "    </tr>\n",
       "  </tbody>\n",
       "</table>\n",
       "</div>"
      ],
      "text/plain": [
       "           City State      Lat     Long  Snowfall Direction\n",
       "0    Burlington    VT  44.4683 -73.1499      81.2         N\n",
       "4     Worcester    MA  42.2706 -71.8731      64.1         S\n",
       "1      Portland    ME  43.6497 -70.3002      61.9         N\n",
       "2       Concord    NH  42.2015 -71.5002      61.4         N\n",
       "12       Bangor    ME  44.8010 -68.7700      58.2         N\n",
       "10  Brattleboro    VT  42.8500 -72.5570      56.3         N\n",
       "11       Nashua    NH  42.7650 -71.4660      51.1         N\n",
       "3        Boston    MA  42.3606 -71.0097      43.8         S\n",
       "5      Hartford    CT  41.9375 -72.6819      40.5         S\n",
       "7     New Haven    CT  41.3080 -72.9260      34.2         S\n",
       "6    Providence    RI  41.7225 -71.4325      33.8         S\n",
       "9   New Bedford    MA  41.6360 -70.9320      26.1         S\n",
       "8       Newport    RI  41.4900 -71.3120      25.3         S"
      ]
     },
     "execution_count": 33,
     "metadata": {},
     "output_type": "execute_result"
    }
   ],
   "source": [
    "snowdsc"
   ]
  },
  {
   "cell_type": "code",
   "execution_count": 34,
   "id": "corresponding-article",
   "metadata": {},
   "outputs": [],
   "source": [
    "snowdsc = snowdsc.set_index('City')"
   ]
  },
  {
   "cell_type": "code",
   "execution_count": 35,
   "id": "incomplete-database",
   "metadata": {},
   "outputs": [],
   "source": [
    "snowdsc = snowdsc.sort_values('Snowfall', ascending = False)"
   ]
  },
  {
   "cell_type": "code",
   "execution_count": 36,
   "id": "unavailable-friendly",
   "metadata": {},
   "outputs": [
    {
     "data": {
      "text/html": [
       "<div>\n",
       "<style scoped>\n",
       "    .dataframe tbody tr th:only-of-type {\n",
       "        vertical-align: middle;\n",
       "    }\n",
       "\n",
       "    .dataframe tbody tr th {\n",
       "        vertical-align: top;\n",
       "    }\n",
       "\n",
       "    .dataframe thead th {\n",
       "        text-align: right;\n",
       "    }\n",
       "</style>\n",
       "<table border=\"1\" class=\"dataframe\">\n",
       "  <thead>\n",
       "    <tr style=\"text-align: right;\">\n",
       "      <th></th>\n",
       "      <th>State</th>\n",
       "      <th>Lat</th>\n",
       "      <th>Long</th>\n",
       "      <th>Snowfall</th>\n",
       "      <th>Direction</th>\n",
       "    </tr>\n",
       "    <tr>\n",
       "      <th>City</th>\n",
       "      <th></th>\n",
       "      <th></th>\n",
       "      <th></th>\n",
       "      <th></th>\n",
       "      <th></th>\n",
       "    </tr>\n",
       "  </thead>\n",
       "  <tbody>\n",
       "    <tr>\n",
       "      <th>Burlington</th>\n",
       "      <td>VT</td>\n",
       "      <td>44.4683</td>\n",
       "      <td>-73.1499</td>\n",
       "      <td>81.2</td>\n",
       "      <td>N</td>\n",
       "    </tr>\n",
       "    <tr>\n",
       "      <th>Worcester</th>\n",
       "      <td>MA</td>\n",
       "      <td>42.2706</td>\n",
       "      <td>-71.8731</td>\n",
       "      <td>64.1</td>\n",
       "      <td>S</td>\n",
       "    </tr>\n",
       "    <tr>\n",
       "      <th>Portland</th>\n",
       "      <td>ME</td>\n",
       "      <td>43.6497</td>\n",
       "      <td>-70.3002</td>\n",
       "      <td>61.9</td>\n",
       "      <td>N</td>\n",
       "    </tr>\n",
       "    <tr>\n",
       "      <th>Concord</th>\n",
       "      <td>NH</td>\n",
       "      <td>42.2015</td>\n",
       "      <td>-71.5002</td>\n",
       "      <td>61.4</td>\n",
       "      <td>N</td>\n",
       "    </tr>\n",
       "    <tr>\n",
       "      <th>Bangor</th>\n",
       "      <td>ME</td>\n",
       "      <td>44.8010</td>\n",
       "      <td>-68.7700</td>\n",
       "      <td>58.2</td>\n",
       "      <td>N</td>\n",
       "    </tr>\n",
       "    <tr>\n",
       "      <th>Brattleboro</th>\n",
       "      <td>VT</td>\n",
       "      <td>42.8500</td>\n",
       "      <td>-72.5570</td>\n",
       "      <td>56.3</td>\n",
       "      <td>N</td>\n",
       "    </tr>\n",
       "    <tr>\n",
       "      <th>Nashua</th>\n",
       "      <td>NH</td>\n",
       "      <td>42.7650</td>\n",
       "      <td>-71.4660</td>\n",
       "      <td>51.1</td>\n",
       "      <td>N</td>\n",
       "    </tr>\n",
       "    <tr>\n",
       "      <th>Boston</th>\n",
       "      <td>MA</td>\n",
       "      <td>42.3606</td>\n",
       "      <td>-71.0097</td>\n",
       "      <td>43.8</td>\n",
       "      <td>S</td>\n",
       "    </tr>\n",
       "    <tr>\n",
       "      <th>Hartford</th>\n",
       "      <td>CT</td>\n",
       "      <td>41.9375</td>\n",
       "      <td>-72.6819</td>\n",
       "      <td>40.5</td>\n",
       "      <td>S</td>\n",
       "    </tr>\n",
       "    <tr>\n",
       "      <th>New Haven</th>\n",
       "      <td>CT</td>\n",
       "      <td>41.3080</td>\n",
       "      <td>-72.9260</td>\n",
       "      <td>34.2</td>\n",
       "      <td>S</td>\n",
       "    </tr>\n",
       "    <tr>\n",
       "      <th>Providence</th>\n",
       "      <td>RI</td>\n",
       "      <td>41.7225</td>\n",
       "      <td>-71.4325</td>\n",
       "      <td>33.8</td>\n",
       "      <td>S</td>\n",
       "    </tr>\n",
       "    <tr>\n",
       "      <th>New Bedford</th>\n",
       "      <td>MA</td>\n",
       "      <td>41.6360</td>\n",
       "      <td>-70.9320</td>\n",
       "      <td>26.1</td>\n",
       "      <td>S</td>\n",
       "    </tr>\n",
       "    <tr>\n",
       "      <th>Newport</th>\n",
       "      <td>RI</td>\n",
       "      <td>41.4900</td>\n",
       "      <td>-71.3120</td>\n",
       "      <td>25.3</td>\n",
       "      <td>S</td>\n",
       "    </tr>\n",
       "  </tbody>\n",
       "</table>\n",
       "</div>"
      ],
      "text/plain": [
       "            State      Lat     Long  Snowfall Direction\n",
       "City                                                   \n",
       "Burlington     VT  44.4683 -73.1499      81.2         N\n",
       "Worcester      MA  42.2706 -71.8731      64.1         S\n",
       "Portland       ME  43.6497 -70.3002      61.9         N\n",
       "Concord        NH  42.2015 -71.5002      61.4         N\n",
       "Bangor         ME  44.8010 -68.7700      58.2         N\n",
       "Brattleboro    VT  42.8500 -72.5570      56.3         N\n",
       "Nashua         NH  42.7650 -71.4660      51.1         N\n",
       "Boston         MA  42.3606 -71.0097      43.8         S\n",
       "Hartford       CT  41.9375 -72.6819      40.5         S\n",
       "New Haven      CT  41.3080 -72.9260      34.2         S\n",
       "Providence     RI  41.7225 -71.4325      33.8         S\n",
       "New Bedford    MA  41.6360 -70.9320      26.1         S\n",
       "Newport        RI  41.4900 -71.3120      25.3         S"
      ]
     },
     "execution_count": 36,
     "metadata": {},
     "output_type": "execute_result"
    }
   ],
   "source": [
    "snowdsc"
   ]
  },
  {
   "cell_type": "code",
   "execution_count": 37,
   "id": "limiting-oregon",
   "metadata": {},
   "outputs": [],
   "source": [
    "%matplotlib inline"
   ]
  },
  {
   "cell_type": "code",
   "execution_count": 38,
   "id": "minimal-rebecca",
   "metadata": {},
   "outputs": [
    {
     "data": {
      "text/plain": [
       "<AxesSubplot:title={'center':'Snowfall Amounts for New England Cities'}, xlabel='City'>"
      ]
     },
     "execution_count": 38,
     "metadata": {},
     "output_type": "execute_result"
    },
    {
     "data": {
      "image/png": "[encoded data removed]",
      "text/plain": [
       "<Figure size 432x288 with 1 Axes>"
      ]
     },
     "metadata": {
      "needs_background": "light"
     },
     "output_type": "display_data"
    }
   ],
   "source": [
    "snowdsc[\"Snowfall\"].plot.bar(title='Snowfall Amounts for New England Cities', color='purple')"
   ]
  },
  {
   "cell_type": "code",
   "execution_count": 39,
   "id": "professional-provincial",
   "metadata": {},
   "outputs": [
    {
     "data": {
      "text/plain": [
       "<AxesSubplot:title={'center':'Snowfall Amounts for New England Cities'}, xlabel='Lat', ylabel='Snowfall'>"
      ]
     },
     "execution_count": 39,
     "metadata": {},
     "output_type": "execute_result"
    },
    {
     "data": {
      "image/png": "[encoded data removed]",
      "text/plain": [
       "<Figure size 432x288 with 1 Axes>"
      ]
     },
     "metadata": {
      "needs_background": "light"
     },
     "output_type": "display_data"
    }
   ],
   "source": [
    "snowdsc.plot.scatter(x='Lat',y='Snowfall',title='Snowfall Amounts for New England Cities', color='purple')"
   ]
  },
  {
   "cell_type": "code",
   "execution_count": 40,
   "id": "infinite-capture",
   "metadata": {},
   "outputs": [],
   "source": [
    "snowtotals = snowdsc.groupby(snowdsc['Direction']).max()"
   ]
  },
  {
   "cell_type": "code",
   "execution_count": 41,
   "id": "precious-malpractice",
   "metadata": {},
   "outputs": [
    {
     "data": {
      "text/html": [
       "<div>\n",
       "<style scoped>\n",
       "    .dataframe tbody tr th:only-of-type {\n",
       "        vertical-align: middle;\n",
       "    }\n",
       "\n",
       "    .dataframe tbody tr th {\n",
       "        vertical-align: top;\n",
       "    }\n",
       "\n",
       "    .dataframe thead th {\n",
       "        text-align: right;\n",
       "    }\n",
       "</style>\n",
       "<table border=\"1\" class=\"dataframe\">\n",
       "  <thead>\n",
       "    <tr style=\"text-align: right;\">\n",
       "      <th></th>\n",
       "      <th>State</th>\n",
       "      <th>Lat</th>\n",
       "      <th>Long</th>\n",
       "      <th>Snowfall</th>\n",
       "    </tr>\n",
       "    <tr>\n",
       "      <th>Direction</th>\n",
       "      <th></th>\n",
       "      <th></th>\n",
       "      <th></th>\n",
       "      <th></th>\n",
       "    </tr>\n",
       "  </thead>\n",
       "  <tbody>\n",
       "    <tr>\n",
       "      <th>N</th>\n",
       "      <td>VT</td>\n",
       "      <td>44.8010</td>\n",
       "      <td>-68.770</td>\n",
       "      <td>81.2</td>\n",
       "    </tr>\n",
       "    <tr>\n",
       "      <th>S</th>\n",
       "      <td>RI</td>\n",
       "      <td>42.3606</td>\n",
       "      <td>-70.932</td>\n",
       "      <td>64.1</td>\n",
       "    </tr>\n",
       "  </tbody>\n",
       "</table>\n",
       "</div>"
      ],
      "text/plain": [
       "          State      Lat    Long  Snowfall\n",
       "Direction                                 \n",
       "N            VT  44.8010 -68.770      81.2\n",
       "S            RI  42.3606 -70.932      64.1"
      ]
     },
     "execution_count": 41,
     "metadata": {},
     "output_type": "execute_result"
    }
   ],
   "source": [
    "snowtotals"
   ]
  },
  {
   "cell_type": "code",
   "execution_count": 42,
   "id": "careful-testing",
   "metadata": {},
   "outputs": [
    {
     "data": {
      "text/plain": [
       "<AxesSubplot:title={'center':'Snowfall Totals North vs South'}, xlabel='Direction'>"
      ]
     },
     "execution_count": 42,
     "metadata": {},
     "output_type": "execute_result"
    },
    {
     "data": {
      "image/png": "[encoded data removed]",
      "text/plain": [
       "<Figure size 432x288 with 1 Axes>"
      ]
     },
     "metadata": {
      "needs_background": "light"
     },
     "output_type": "display_data"
    }
   ],
   "source": [
    "snowtotals[\"Snowfall\"].plot.bar(title='Snowfall Totals North vs South', color='purple', width=0.9)"
   ]
  },
  {
   "cell_type": "code",
   "execution_count": 43,
   "id": "former-highlight",
   "metadata": {},
   "outputs": [
    {
     "data": {
      "text/plain": [
       "<AxesSubplot:ylabel='Frequency'>"
      ]
     },
     "execution_count": 43,
     "metadata": {},
     "output_type": "execute_result"
    },
    {
     "data": {
      "image/png": "[encoded data removed]",
      "text/plain": [
       "<Figure size 432x288 with 1 Axes>"
      ]
     },
     "metadata": {
      "needs_background": "light"
     },
     "output_type": "display_data"
    }
   ],
   "source": [
    "snowdsc['Snowfall'].plot.hist(bins=10,color='green',edgecolor='yellow')"
   ]
  },
  {
   "cell_type": "code",
   "execution_count": 44,
   "id": "increasing-expense",
   "metadata": {},
   "outputs": [
    {
     "data": {
      "image/png": "[encoded data removed]",
      "text/plain": [
       "<Figure size 432x288 with 1 Axes>"
      ]
     },
     "metadata": {
      "needs_background": "light"
     },
     "output_type": "display_data"
    }
   ],
   "source": [
    "import matplotlib.pyplot as plt \n",
    "\n",
    "ages = [25,26,27,28,29,30,31,32,33,34,35]\n",
    "bach = [38496,42000,46752,49320,53200,56000,62316,64928,67317,68748,73752]\n",
    "mast = [41426,44400,49752,53220,57200,60890,67316,71928,75317,78748,82752]\n",
    "\n",
    "plt.plot(ages,bach,color='teal',linestyle='--',marker='.',label='Bachelors Degree')\n",
    "plt.plot(ages,mast,color='orange',marker='o',label='Bachelors Degree')\n",
    "plt.title('Median Salary by Degree')\n",
    "plt.legend()\n",
    "plt.xlabel('Age')\n",
    "plt.ylabel('Salary')\n",
    "plt.show()"
   ]
  },
  {
   "cell_type": "code",
   "execution_count": 45,
   "id": "reflected-student",
   "metadata": {},
   "outputs": [
    {
     "data": {
      "image/png": "[encoded data removed]",
      "text/plain": [
       "<Figure size 432x288 with 1 Axes>"
      ]
     },
     "metadata": {},
     "output_type": "display_data"
    }
   ],
   "source": [
    "plt.style.use('dark_background')\n",
    "plt.plot(ages,bach,color='teal',linestyle='--',marker='.',label='Bachelors Degree')\n",
    "plt.plot(ages,mast,color='orange',marker='o',label='Bachelors Degree')\n",
    "plt.title('Median Salary by Degree')\n",
    "plt.legend()\n",
    "plt.xlabel('Age')\n",
    "plt.ylabel('Salary')\n",
    "plt.grid(True)\n",
    "plt.show()"
   ]
  },
  {
   "cell_type": "code",
   "execution_count": 46,
   "id": "emerging-rubber",
   "metadata": {},
   "outputs": [
    {
     "name": "stdout",
     "output_type": "stream",
     "text": [
      "['Solarize_Light2', '_classic_test_patch', 'bmh', 'classic', 'dark_background', 'fast', 'fivethirtyeight', 'ggplot', 'grayscale', 'seaborn', 'seaborn-bright', 'seaborn-colorblind', 'seaborn-dark', 'seaborn-dark-palette', 'seaborn-darkgrid', 'seaborn-deep', 'seaborn-muted', 'seaborn-notebook', 'seaborn-paper', 'seaborn-pastel', 'seaborn-poster', 'seaborn-talk', 'seaborn-ticks', 'seaborn-white', 'seaborn-whitegrid', 'tableau-colorblind10']\n"
     ]
    }
   ],
   "source": [
    "print(plt.style.available)"
   ]
  },
  {
   "cell_type": "code",
   "execution_count": 47,
   "id": "numeric-elimination",
   "metadata": {},
   "outputs": [
    {
     "data": {
      "image/png": "[encoded data removed]",
      "text/plain": [
       "<Figure size 432x288 with 1 Axes>"
      ]
     },
     "metadata": {},
     "output_type": "display_data"
    }
   ],
   "source": [
    "import numpy as np\n",
    "agerange = np.arange(len(ages))\n",
    "\n",
    "plt.style.use('seaborn-deep')\n",
    "plt.title('Median Salary by Degree')\n",
    "plt.legend()\n",
    "plt.xlabel('Age')\n",
    "plt.ylabel('Salary')\n",
    "plt.grid(True)\n",
    "plt.xticks(ticks = agerange, labels = ages)\n",
    "plt.show()"
   ]
  },
  {
   "cell_type": "code",
   "execution_count": null,
   "id": "exotic-opposition",
   "metadata": {},
   "outputs": [],
   "source": []
  }
 ],
 "metadata": {
  "kernelspec": {
   "display_name": "Python 3",
   "language": "python",
   "name": "python3"
  },
  "language_info": {
   "codemirror_mode": {
    "name": "ipython",
    "version": 3
   },
   "file_extension": ".py",
   "mimetype": "text/x-python",
   "name": "python",
   "nbconvert_exporter": "python",
   "pygments_lexer": "ipython3",
   "version": "3.8.8"
  }
 },
 "nbformat": 4,
 "nbformat_minor": 5
}
