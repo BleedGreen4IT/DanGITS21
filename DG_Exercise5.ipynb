{
 "cells": [
  {
   "cell_type": "markdown",
   "metadata": {},
   "source": [
    "# Locations "
   ]
  },
  {
   "cell_type": "code",
   "execution_count": null,
   "metadata": {},
   "outputs": [],
   "source": [
    "location1: Kennedy Space Center (28° 31′ 27″ N, 80° 39′ 3″ W)\n",
    "location2: The Great Pyramid of Giza (29° 58′ 45″ N, 31° 8′ 3″ E)\n",
    "location3: Monument to Those Who Saved the World (51° 16′ 49.62″ N, 30° 12′ 29.81″ E)"
   ]
  },
  {
   "cell_type": "code",
   "execution_count": 3,
   "metadata": {},
   "outputs": [],
   "source": [
    "def dd(direction,degrees,minutes,seconds):\n",
    "    return direction * (degrees + (minutes + seconds/60)/60)"
   ]
  },
  {
   "cell_type": "code",
   "execution_count": 4,
   "metadata": {},
   "outputs": [
    {
     "data": {
      "text/plain": [
       "28.524166666666666"
      ]
     },
     "execution_count": 4,
     "metadata": {},
     "output_type": "execute_result"
    }
   ],
   "source": [
    "dd(1,28,31,27)"
   ]
  },
  {
   "cell_type": "code",
   "execution_count": 5,
   "metadata": {},
   "outputs": [
    {
     "data": {
      "text/plain": [
       "-80.65083333333334"
      ]
     },
     "execution_count": 5,
     "metadata": {},
     "output_type": "execute_result"
    }
   ],
   "source": [
    "dd(-1,80,39,3)"
   ]
  },
  {
   "cell_type": "code",
   "execution_count": 6,
   "metadata": {},
   "outputs": [
    {
     "data": {
      "text/plain": [
       "29.979166666666668"
      ]
     },
     "execution_count": 6,
     "metadata": {},
     "output_type": "execute_result"
    }
   ],
   "source": [
    "dd(1,29,58,45)"
   ]
  },
  {
   "cell_type": "code",
   "execution_count": 7,
   "metadata": {},
   "outputs": [
    {
     "data": {
      "text/plain": [
       "31.134166666666665"
      ]
     },
     "execution_count": 7,
     "metadata": {},
     "output_type": "execute_result"
    }
   ],
   "source": [
    "dd(1,31,8,3)"
   ]
  },
  {
   "cell_type": "code",
   "execution_count": 8,
   "metadata": {},
   "outputs": [
    {
     "data": {
      "text/plain": [
       "51.28045"
      ]
     },
     "execution_count": 8,
     "metadata": {},
     "output_type": "execute_result"
    }
   ],
   "source": [
    "dd(1,51,16,49.62)"
   ]
  },
  {
   "cell_type": "code",
   "execution_count": 9,
   "metadata": {},
   "outputs": [
    {
     "data": {
      "text/plain": [
       "-30.208280555555554"
      ]
     },
     "execution_count": 9,
     "metadata": {},
     "output_type": "execute_result"
    }
   ],
   "source": [
    "dd(-1,30,12,29.81)"
   ]
  },
  {
   "cell_type": "code",
   "execution_count": 16,
   "metadata": {},
   "outputs": [
    {
     "name": "stdout",
     "output_type": "stream",
     "text": [
      "The distance between The Kennedy Space Center and The Great Pyramid of Giza is 6392 miles.\n",
      "The distance between The Kennedy Space Center and The Monument to Those Who Saved the World is 3022 miles.\n",
      "The distance between The Great Pyramid of Giza and The Monument to Those Who Saved the World is 3419 miles.\n"
     ]
    }
   ],
   "source": [
    "import math\n",
    "radius = 6371\n",
    "lat1 = 28.524166666666666 * (math.pi/180)\n",
    "lon1 = -80.65083333333334 * (math.pi/180)\n",
    "lat2 = 29.979166666666668 * (math.pi/180)\n",
    "lon2 = 31.134166666666665 * (math.pi/180)\n",
    "lat3 = 51.28045 * (math.pi/180)\n",
    "lon3 = -30.208280555555554 * (math.pi/180)\n",
    "\n",
    "latd1 = lat1-lat2\n",
    "lond1 = lon1-lon2\n",
    "\n",
    "a = math.sin(latd1/2)**2 + math.cos(lat1) * math.cos(lat2) * math.sin(lond1/2)**2\n",
    "\n",
    "c = 2 * math.atan2(math.sqrt(a), math.sqrt(1-a))\n",
    "\n",
    "d = round(radius * c * 0.621371)\n",
    "\n",
    "latd2 = lat1-lat3\n",
    "lond2 = lon1-lon3\n",
    "\n",
    "a2 = math.sin(latd2/2)**2 + math.cos(lat1) * math.cos(lat3) * math.sin(lond2/2)**2\n",
    "\n",
    "c2 = 2 * math.atan2(math.sqrt(a2), math.sqrt(1-a2))\n",
    "\n",
    "d2 = round(radius * c2 * 0.621371)\n",
    "\n",
    "latd3 = lat2-lat3\n",
    "lond3 = lon2-lon3\n",
    "\n",
    "a3 = math.sin(latd3/2)**2 + math.cos(lat2) * math.cos(lat3) * math.sin(lond3/2)**2\n",
    "\n",
    "c3 = 2 * math.atan2(math.sqrt(a3), math.sqrt(1-a3))\n",
    "\n",
    "d3 = round(radius * c3 * 0.621371)\n",
    "\n",
    "print(f'The distance between The Kennedy Space Center and The Great Pyramid of Giza is {d} miles.')\n",
    "print(f'The distance between The Kennedy Space Center and The Monument to Those Who Saved the World is {d2} miles.')\n",
    "print(f'The distance between The Great Pyramid of Giza and The Monument to Those Who Saved the World is {d3} miles.')"
   ]
  },
  {
   "cell_type": "code",
   "execution_count": null,
   "metadata": {},
   "outputs": [],
   "source": [
    "Kennedy Space Center: 28.524166666666666, -80.65083333333334\n",
    "The Great Pyramid of Giza: 29.979166666666668, 31.134166666666665 \n",
    "Monument of Those Who Saved the World: 51.28045, -30.208280555555554 "
   ]
  },
  {
   "cell_type": "code",
   "execution_count": null,
   "metadata": {},
   "outputs": [],
   "source": []
  }
 ],
 "metadata": {
  "kernelspec": {
   "display_name": "Python 3",
   "language": "python",
   "name": "python3"
  },
  "language_info": {
   "codemirror_mode": {
    "name": "ipython",
    "version": 3
   },
   "file_extension": ".py",
   "mimetype": "text/x-python",
   "name": "python",
   "nbconvert_exporter": "python",
   "pygments_lexer": "ipython3",
   "version": "3.8.5"
  }
 },
 "nbformat": 4,
 "nbformat_minor": 4
}
